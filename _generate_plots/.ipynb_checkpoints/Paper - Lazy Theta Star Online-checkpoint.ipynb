{
 "cells": [
  {
   "cell_type": "markdown",
   "metadata": {},
   "source": [
    "# Lazy Theta Star Online"
   ]
  },
  {
   "cell_type": "markdown",
   "metadata": {},
   "source": [
    "### Contents\n",
    "\n",
    "1. **Introduction**\n",
    "    1. [Why the problem is important](#intro)\n",
    "    1. [What is lacking in the current knowledge / State of the art](#stateOfTheArt)\n",
    "    1. [Objectives of the study & research question ](#researchQuestion)\n",
    "    1. [Contribution](#contribution)\n",
    "\n",
    "1. **Methods**\n",
    "    1. [Installation](#installation)\n",
    "    1. [Run](#run)\n",
    "    1. [Study design](#studyDesign)\n",
    "    1. [Study variables](#studyVariables)\n",
    "    \n",
    "1. [**Experimental Results**](#ExperimentalResults)\n",
    "    1. [Open questions](#OpenQuestions)\n",
    "    1. [Deterministic](#Deterministic)"
   ]
  },
  {
   "cell_type": "markdown",
   "metadata": {},
   "source": [
    "<a id='intro'></a>\n",
    "#### 1.A Why the problem is important"
   ]
  },
  {
   "cell_type": "markdown",
   "metadata": {},
   "source": []
  },
  {
   "cell_type": "markdown",
   "metadata": {},
   "source": [
    "<a id='stateOfTheArt'></a>\n",
    "#### 1.B What is lacking in the current knowledge / State of the art"
   ]
  },
  {
   "cell_type": "markdown",
   "metadata": {},
   "source": [
    "Not comparing with MoveIt! because it is built for robotic arms and it would be a study in it's own right to find out the proper parameters. A nice playlist of intro videos exists. https://www.youtube.com/playlist?list=PLz8Xi5I9bhzKuFfcQxWvMm9sVCR5Wng90 \n",
    "\n",
    "Another option is to use the underlying OMPL. But the obstacle avoidance is in MoveIt! .\n",
    "\n",
    "Metrics from Helen and Lactombe 2002."
   ]
  },
  {
   "cell_type": "markdown",
   "metadata": {},
   "source": [
    "<a id='researchQuestion'></a>\n",
    "#### 1.C Objectives of the study & research question"
   ]
  },
  {
   "cell_type": "markdown",
   "metadata": {},
   "source": [
    "**Research question** What modifications need to be done to use Lazy theta * online and in the real world.\n",
    "\n"
   ]
  },
  {
   "cell_type": "markdown",
   "metadata": {},
   "source": [
    "<a id='contribution'></a>\n",
    "#### 1.D Contribution"
   ]
  },
  {
   "cell_type": "markdown",
   "metadata": {},
   "source": [
    "- Online\n",
    "- Receding horizon?\n",
    "- Real world adaptation:\n",
    "    - Free space corridor\n",
    "    - Start & goal in same voxel\n",
    "    - Unknown space as obstacle?\n",
    "    - Scale?\n",
    "    - Security margin & neighbor generation\n",
    "- In case of Information Gain\n",
    "    - Show with the sensor specs that the error os measurements is uniform throuhout the langer range.\n",
    "    - [Disc area](https://www.mathopenref.com/arcsector.html)\n",
    "    - [Is point part of arc](https://stackoverflow.com/questions/6270785/how-to-determine-whether-a-point-x-y-is-contained-within-an-arc-section-of-a-c)\n",
    "    "
   ]
  },
  {
   "cell_type": "markdown",
   "metadata": {},
   "source": [
    "**Security margin & neighbor generation** \n",
    "\n",
    "Using security margin to generate neighbors instead of octree resolution. [for calculations look in spreadsheet](https://docs.google.com/spreadsheets/d/1c4LzxBBLpTx6qQF26tpFr8tkmEM5zIi43MLb72PWlvE/edit#gid=0) \n",
    "\n",
    "When there is a large mismatch between security margin and the resolution there is no point generating neighbors for maximum resolution steps when most of them will be discarded. \n",
    "\n",
    "Instead a variable fraction of the security margin (this can be explored - know what is the amount of paths that cannot be found with this that can be found with resolution) (having as minimum lenght the octree resolution) will be sampled for neighbors. \n",
    "\n",
    "This reduces the number of neighbors while scaling with the size of the voxel. \n",
    "It is not possible to use this method of neighbor generation for both UpdateVertex and in the main loop because during the implementation of the algorithm the assumption that every maximum.\n",
    "\n",
    "(Sparse version) Using the actual size of the neighbors did not in fact reduce computation time because if bookkeeping. \n",
    "    "
   ]
  },
  {
   "cell_type": "markdown",
   "metadata": {},
   "source": [
    "**Obstacle avoidance - point generation**\n",
    "\n",
    "Try the method using the cross product to generate an orthogonal vector. Can be pre generated at start and then applied to each point.\n",
    "\n",
    "Add more distance to make sure of the margins also forward.\n",
    "\n",
    "1. [The ortogonal coordinate frame can be found.](https://answers.ros.org/question/301060/how-to-use-tf-for-custom-rotation/)     \n",
    "\n",
    "2. And then compute the transformation from one to the other:\n",
    "    - [StackOverflow question](https://stackoverflow.com/questions/15252919/how-to-find-the-transformation-matrix-of-a-change-of-basis-with-eigen/15277421)    \n",
    "    - [Pcl implementation of question](https://github.com/PointCloudLibrary/pcl/blob/master/common/include/pcl/common/impl/eigen.hpp#L927)     \n",
    "    - [Pcl docs of function](http://docs.pointclouds.org/1.7.2/a01420.html#a71ec11d4f29c5c8a5b6220c0838a294f)\n",
    "    - [Pcl unit tests](https://github.com/PointCloudLibrary/pcl/blob/cc7fe363c6463a0abc617b1e17e94ab4bd4169ef/test/common/test_eigen.cpp#L1018)\n",
    "    - ? How to know which is the corresponding x axis."
   ]
  },
  {
   "cell_type": "markdown",
   "metadata": {},
   "source": [
    "**Filter laser**\n",
    "\n",
    "The laser points aren't integrated fast engough to use a resolution of 0.2 in the ocotmap.     \n",
    "Look into the filetring process to make it faster."
   ]
  },
  {
   "cell_type": "markdown",
   "metadata": {},
   "source": [
    "**Octomap diverges when receiving much information for an area**\n",
    "\n",
    "Could be because of outliars.\n",
    "Look into filtering. A good option could be median with a window around 3 to 5 points."
   ]
  },
  {
   "cell_type": "markdown",
   "metadata": {},
   "source": [
    "\n",
    "<a id='installation'></a>\n",
    "#### 2.A Installation"
   ]
  },
  {
   "cell_type": "markdown",
   "metadata": {},
   "source": [
    "There are 3 environments with px4: sitl, hitl and real world.\n",
    "The instructions for installation are :\n",
    "- stil  [Gazebo simulation - Try 9](Paper%20-%20Exploration%20real%20world.ipynb#try9)\n",
    "- hitl [Hardware in the loop - Try 2 just upboard and laptop (no docker)](Paper%20-%20Exploration%20real%20world.ipynb#hitl)\n",
    "    1. In laptop Firmware\n",
    "        1. Install mavros-extras\n",
    "        1. `cd ~`\n",
    "        1. `wget https://raw.githubusercontent.com/PX4/Devguide/master/build_scripts/ubuntu_sim_ros_gazebo.sh`\n",
    "        1. `chmod +x ubuntu_sim_ros_gazebo.sh`\n",
    "        2. `source ubuntu_sim_ros_gazebo.sh`\n",
    "        1. `git checkout v1.7.0-rc4`\n",
    "        1. `make posix_sitl_default gazebo`\n",
    "        1. `source ~/Flying_Octomap_code/devel/setup.bash`\n",
    "        1. `source Tools/setup_gazebo.bash ~/src/Firmware ~/src/Firmware/build/posix_sitl_default`\n",
    "        1. `export ROS_PACKAGE_PATH=$ROS_PACKAGE_PATH:~/src/Firmware`\n",
    "        1. `export ROS_PACKAGE_PATH=$ROS_PACKAGE_PATH:~/src/Firmware/Tools/sitl_gazebo`\n",
    "        1. `cp ~/Flying_Octomap_code/src/architecture/Tools/iris.xacro ~/src/Firmware/Tools/sitl_gazebo/models/rotors_description/urdf/`\n",
    "        1. `cp ~/Flying_Octomap_code/src/architecture/Tools/iris_base.xacro ~/src/Firmware/Tools/sitl_gazebo/models/rotors_description/urdf/`\n",
    "        1. `python ~/src/Firmware/Tools/sitl_gazebo/scripts/xacro.py -o ~/src/Firmware/Tools/sitl_gazebo/models/rotors_description/urdf/iris_base.urdf ~/src/Firmware/Tools/sitl_gazebo/models/rotors_description/urdf/iris_base.xacro enable_mavlink_interface:=true enable_ground_truth:=false enable_wind:=false enable_logging:=false rotors_description_dir:=/home/mfaria/src/Firmware/Tools/sitl_gazebo/models/rotors_description`\n",
    "        1. `sed -i 's/package:\\/\\/rotors_description/package:\\/\\/mavlink_sitl_gazebo\\/models\\/rotors_description/g' ~/src/Firmware/Tools/sitl_gazebo/models/rotors_description/urdf/iris_base.urdf`\n",
    "        1. `export ROS_IP=192.168.6.77`\n",
    "        1. `export ROS_MASTER_URI=http://192.168.6.231:11311`\n",
    "    1. In Upboard add `192.168.6.77 garuda` to `/etc/hosts`\n",
    "\n",
    "\n",
    "- real world [Hardware Setup - Try 2 CATEC](Paper%20-%20Exploration%20real%20world.ipynb#try2_catec)"
   ]
  },
  {
   "cell_type": "markdown",
   "metadata": {},
   "source": [
    "<a id='run'></a>\n",
    "#### 2.B Run"
   ]
  },
  {
   "cell_type": "markdown",
   "metadata": {},
   "source": [
    "###### Hardware in the Loop (HitL)\n",
    "          \n",
    "1. **Laptop** Setup basics for px4 simulation\n",
    "    1. `cd ~/src/Firmware`\n",
    "    1. `source /opt/ros/kinetic/setup.bash`\n",
    "    1. `source ~/Flying_Octomap_code/devel/setup.bash`\n",
    "    1. `source Tools/setup_gazebo.bash ~/src/Firmware ~/src/Firmware/build/posix_sitl_default`\n",
    "    1. `export ROS_PACKAGE_PATH=$ROS_PACKAGE_PATH:~/src/Firmware`\n",
    "    1. `export ROS_PACKAGE_PATH=$ROS_PACKAGE_PATH:~/src/Firmware/Tools/sitl_gazebo`\n",
    "    1. `cp ~/Flying_Octomap_code/src/architecture/Tools/iris.xacro ~/src/Firmware/Tools/sitl_gazebo/models/rotors_description/urdf/`\n",
    "    1. `cp ~/Flying_Octomap_code/src/architecture/Tools/iris_base.xacro ~/src/Firmware/Tools/sitl_gazebo/models/rotors_description/urdf/`\n",
    "    1. `python ~/src/Firmware/Tools/sitl_gazebo/scripts/xacro.py -o ~/src/Firmware/Tools/sitl_gazebo/models/rotors_description/urdf/iris_base.urdf ~/src/Firmware/Tools/sitl_gazebo/models/rotors_description/urdf/iris_base.xacro enable_mavlink_interface:=true enable_ground_truth:=false enable_wind:=false enable_logging:=false rotors_description_dir:=/home/garuda/src/Firmware/Tools/sitl_gazebo/models/rotors_description`\n",
    "    1. `sed -i 's/package:\\/\\/rotors_description/package:\\/\\/mavlink_sitl_gazebo\\/models\\/rotors_description/g' ~/src/Firmware/Tools/sitl_gazebo/models/rotors_description/urdf/iris_base.urdf`\n",
    "    1. `export ROS_IP=192.168.6.77`\n",
    "    1. `export ROS_MASTER_URI=http://192.168.6.231:11311`\n",
    "\n",
    "1. **UpBoard** Launch code\n",
    "    1. `source ~/ros_ws/devel/setup.bash`\n",
    "    1. `export ROS_IP=192.168.6.231`\n",
    "    1. `roslaunch architecture hitl_upboard_architecture.launch`\n",
    "\n",
    "1. **Laptop** Launch px4 simulation (2 terminals)\n",
    "    1. `cd ~/src/Firmware`\n",
    "    1. `roslaunch architecture hitl_laptop_px4_simulation.launch`\n",
    "    1. `roslaunch mavros px4.launch fcu_url:=\"udp://:14540@127.0.0.1:14557\"`  \n",
    "\n",
    "1. **Laptop** Launch rviz\n",
    "    1. `cd ~/src/Firmware`\n",
    "    1. `source /opt/ros/kinetic/setup.bash`\n",
    "    1. `source ~/Flying_Octomap_code/devel/setup.bash`\n",
    "    1. `source Tools/setup_gazebo.bash ~/src/Firmware ~/src/Firmware/build/posix_sitl_default`\n",
    "    1. `export ROS_PACKAGE_PATH=$ROS_PACKAGE_PATH:~/src/Firmware`\n",
    "    1. `export ROS_PACKAGE_PATH=$ROS_PACKAGE_PATH:~/src/Firmware/Tools/sitl_gazebo` \n",
    "    1. `export ROS_IP=192.168.6.77`\n",
    "    1. `export ROS_MASTER_URI=http://192.168.6.231:11311`\n",
    "    1. `rviz`\n",
    "        \n",
    "    \n"
   ]
  },
  {
   "cell_type": "markdown",
   "metadata": {},
   "source": [
    "**Real Flight**\n",
    "\n",
    "1. **Laptop** Setup basics for UAV model in gazebo & ips\n",
    "    1. `cd ~/src/Firmware`\n",
    "    1. `source /opt/ros/kinetic/setup.bash`\n",
    "    1. `source ~/Flying_Octomap_code/devel/setup.bash`\n",
    "    1. `source Tools/setup_gazebo.bash ~/src/Firmware ~/src/Firmware/build/posix_sitl_default`\n",
    "    1. `export ROS_PACKAGE_PATH=$ROS_PACKAGE_PATH:~/src/Firmware`\n",
    "    1. `export ROS_PACKAGE_PATH=$ROS_PACKAGE_PATH:~/src/Firmware/Tools/sitl_gazebo`\n",
    "    1. `export ROS_IP=192.168.6.77`\n",
    "    1. `export ROS_MASTER_URI=http://192.168.6.231:11311`\n",
    "\n",
    "1. **UpBoard** Launch code\n",
    "    1. `source ~/ros_ws/devel/setup.bash`\n",
    "    1. `export ROS_IP=192.168.6.231`\n",
    "    1. `roslaunch architecture realUav_upboard_px4comms.launch`\n",
    "    1. `roslaunch architecture realUav_upboard_path_command.launch`\n",
    "\n",
    "1. **Laptop** Setup basics for UAV model in gazebo & ips, Launch rviz\n",
    "    1. `cd ~/src/Firmware`\n",
    "    1. `source /opt/ros/kinetic/setup.bash`\n",
    "    1. `source ~/Flying_Octomap_code/devel/setup.bash`\n",
    "    1. `source Tools/setup_gazebo.bash ~/src/Firmware ~/src/Firmware/build/posix_sitl_default`\n",
    "    1. `export ROS_PACKAGE_PATH=$ROS_PACKAGE_PATH:~/src/Firmware`\n",
    "    1. `export ROS_PACKAGE_PATH=$ROS_PACKAGE_PATH:~/src/Firmware/Tools/sitl_gazebo` \n",
    "    1. `export ROS_IP=192.168.6.77`\n",
    "    1. `export ROS_MASTER_URI=http://192.168.6.231:11311`\n",
    "    1. `roslaunch architecture realUav_laptop_monitor.launch`\n",
    "    1. get points: `rostopic echo /mavros/global_position/local` `rosrun tf tf_echo /map /base_link`\n",
    "    1. send path request: `rostopic pub /ltstar_request path_planning_msgs/LTStarRequest`\n",
    "    \n",
    "Check the date and time are correct\n",
    "- `date +%Y%m%d -s \"20120418\"`\n",
    "- `date +%T -s \"11:14:00\"`"
   ]
  },
  {
   "cell_type": "markdown",
   "metadata": {},
   "source": [
    "**Debug path on saved octree**\n",
    "1. `roslaunch architecture debug_lazyThetaStar.launch`\n",
    "1. `rosrun octomap_server octomap_server_node src/path_planning/test/data/d.bt _publish_free_space:=true`"
   ]
  },
  {
   "cell_type": "markdown",
   "metadata": {},
   "source": [
    "**Valid bag data**\n",
    "1. Experimenting \n",
    "    1. run realUav_laptop_monitor.launch\n",
    "1. Generate octree\n",
    "    1. Filter to exclude frontier and Lazy theta Star messages `rosbag filter 20180731_12_record_all_manualExploration_PathNotFound.bag 20180731_12_record_all_manualExploration_PathNotFound_scan.bag \"topic == '/tf' or topic == '/scan' or topic == '/mavros/global_position/local' or topic == '/mavros/global_position/global' or topic == '/tf' or topic == '/mavros/global_position/local' or topic == '/mavros/global_position/global' or topic == '/mavros/setpoint_position/local' or topic == '/position_log'  or topic == '/scan'\"`\n",
    "    1. Make sure that async node is in STANDALONE mode and not savig csv files (defines)\n",
    "    1. laptop@Terminal 1 `roslaunch architecture hitl_laptop_saveOctomap.launch`\n",
    "    1. laptop@Terminal 2 `rosbag play 20180731_12_record_all_manualExploration_PathNotFound_scan.bag  -r 20`\n",
    "    1. laptop@Terminal 3 `rosrun octomap_server octomap_saver karting.bt`\n",
    "    1. Verify octree file `octovis karting.bt`\n",
    "1. Use octree with rviz\n"
   ]
  },
  {
   "cell_type": "markdown",
   "metadata": {},
   "source": [
    "**Interpret RVIZ**\n",
    "\n",
    "- Topic /ltstar_path. Maker array.\n",
    "    - Input\n",
    "        - start: small sphere (0.2m)         The exact start point lazyThetaStar_ method received.\n",
    "        - goal: small sphere (0.2m)          The exact goal  point lazyThetaStar_ method received.\n",
    "        - start_voxel: cube (size of voxel)  Voxel containing the start point.\n",
    "        - goal_voxel : cube (size of voxel)  Voxel containing the goal  point.\n",
    "    - Algorithm variables:\n",
    "        - s     : ?                          The center of the voxels analyzed (s pseudocode variable)\n",
    "        - closed: small green spheres (0.1m) The center of the voxels analyzed (s pseudocode variable)\n",
    "    - Output\n",
    "        - lazy_theta_star_path: series of yellow arrows that show the desired path. i.e.: straight lines between waypoints/voxel centers.\n",
    "        - lazy_theta_star_wayoint: purple transparent cubes (size of voxel) Voxel containing each waypoint.\n",
    "        - straight_line: (??lilac if found path, white otherwise) arrow from start to goal.\n",
    "        "
   ]
  },
  {
   "cell_type": "markdown",
   "metadata": {},
   "source": [
    "<a id='studyDesign'></a>\n",
    "#### 2.C Study Design"
   ]
  },
  {
   "cell_type": "markdown",
   "metadata": {},
   "source": [
    "Comparisions:\n",
    "- It would be nice to compare against someone else's algorithm. MoveIt! seems to be the only 3D option of the shelf. See if this can be run from the bags. Also mention in future work that it will be compared - as it will...\n",
    "- Regular grid & sparse?\n",
    "\n",
    "20 runs from bag the see more statistically results.\n",
    "\n",
    "Run around 3 in real life. Try to be with same flight.\n",
    "\n",
    "Parameter sweep."
   ]
  },
  {
   "cell_type": "markdown",
   "metadata": {},
   "source": [
    "<a id='studyVariables'></a>\n",
    "#### 2.D Study Variables"
   ]
  },
  {
   "cell_type": "markdown",
   "metadata": {},
   "source": [
    "- Computation time\n",
    "- RAM\n",
    "- Path length free space\n",
    "- Path lenght w/ obstacles: compare with manual measurement.\n",
    "- ~~Failure percentage~~\n",
    "    - ~~Naive max resolution neighbors~~\n",
    "    - ~~Different fractions of security margin~~\n"
   ]
  },
  {
   "cell_type": "markdown",
   "metadata": {},
   "source": []
  },
  {
   "cell_type": "markdown",
   "metadata": {},
   "source": [
    "**Run plotly**\n",
    "1. Installation\n",
    "    1. `pip install plotly`\n",
    "    1. `pip install cufflinks`\n",
    "1. Run frontier extraction for box plots\n",
    "    1. `cd ~/Flying_Octomap_code/_generate_plots`\n",
    "    1. `python`\n",
    "    1. `variables= {}`\n",
    "    1. `execfile( \"compare_box_graphs.py\", variables )`"
   ]
  },
  {
   "cell_type": "markdown",
   "metadata": {},
   "source": [
    "<a id='ExperimentalResults'></a>\n",
    "## 3 Experimental Results"
   ]
  },
  {
   "cell_type": "markdown",
   "metadata": {},
   "source": [
    "**2018/08/21**      \n",
    "Collected many runs.\n",
    "Realized that the map deteriorates over time. Meaning the voxel separate instead of merging.\n",
    "\n",
    "\n",
    "**2018/08/23**     \n",
    "Collect video and some more runs.\n",
    "As it is the UAV is not capable of integrating all the point clouds into the octree. Unclear if augmenting the resolution would help with voxels diverging.\n",
    "\n",
    "It is proven that the current implementations works if the voxels are merged.\n",
    "\n",
    "<a id='OpenQuestions'></a>\n",
    "###### Filter Questions\n",
    "\n",
    "1. If all the laser scans are properly integrated in an octomap with finer resolution will it still diverge?   \n",
    "    **Yes**. When using a finer resolution it is apparent that one set of voxels that made the strutcture disapears to shitf to one side. This might be a precision problem because the RTK accuracy is only 0.9m or not if the accuracy of the RTK is only in respect to earth positioning and the diferencial between base and rover is always kept.\n",
    "\n",
    "2. Can the filters \n",
    "    1. Be simplified (**yes**) to improve performance (yes) \n",
    "    2. Incorporate a median filter to remove outliars. In order to reduce octomap divergence. - Median slows down. Replaced by a intensity filter combined with tweaked parameters of sensor_model/[hit|miss] for the octomap.\n"
   ]
  },
  {
   "cell_type": "code",
   "execution_count": 28,
   "metadata": {},
   "outputs": [
    {
     "data": {
      "text/plain": [
       "1081"
      ]
     },
     "execution_count": 28,
     "metadata": {},
     "output_type": "execute_result"
    }
   ],
   "source": [
    "# Intensities sample\n",
    "import numpy as np\n",
    "\n",
    "\n",
    "intensities = [517.0, 520.0, 522.0, 523.0, 507.0, 534.0, 530.0, 525.0, 537.0, 526.0, 528.0, 526.0, 531.0, 519.0, 531.0, 524.0, 506.0, 533.0, 535.0, 543.0, 525.0, 536.0, 526.0, 559.0, 542.0, 535.0, 515.0, 526.0, 551.0, 556.0, 574.0, 564.0, 551.0, 540.0, 537.0, 556.0, 558.0, 549.0, 549.0, 551.0, 546.0, 551.0, 566.0, 528.0, 528.0, 521.0, 534.0, 518.0, 516.0, 527.0, 517.0, 534.0, 536.0, 505.0, 511.0, 535.0, 542.0, 544.0, 527.0, 521.0, 528.0, 532.0, 554.0, 556.0, 578.0, 591.0, 645.0, 448.0, 251.0, 357.0, 404.0, 391.0, 380.0, 414.0, 407.0, 413.0, 417.0, 437.0, 441.0, 410.0, 405.0, 433.0, 445.0, 472.0, 449.0, 449.0, 436.0, 429.0, 418.0, 447.0, 416.0, 430.0, 441.0, 421.0, 362.0, 369.0, 357.0, 374.0, 366.0, 378.0, 351.0, 326.0, 326.0, 322.0, 346.0, 345.0, 363.0, 378.0, 383.0, 0.0, 0.0, 0.0, 0.0, 0.0, 0.0, 0.0, 0.0, 0.0, 0.0, 0.0, 0.0, 0.0, 0.0, 0.0, 0.0, 0.0, 0.0, 0.0, 0.0, 0.0, 0.0, 0.0, 0.0, 0.0, 0.0, 0.0, 0.0, 0.0, 0.0, 0.0, 0.0, 0.0, 0.0, 0.0, 0.0, 0.0, 0.0, 0.0, 0.0, 0.0, 0.0, 0.0, 0.0, 0.0, 0.0, 0.0, 0.0, 0.0, 0.0, 0.0, 0.0, 0.0, 0.0, 0.0, 0.0, 0.0, 0.0, 0.0, 0.0, 0.0, 0.0, 0.0, 0.0, 0.0, 0.0, 0.0, 0.0, 0.0, 0.0, 0.0, 0.0, 0.0, 0.0, 0.0, 0.0, 0.0, 0.0, 0.0, 0.0, 0.0, 0.0, 0.0, 0.0, 0.0, 0.0, 0.0, 0.0, 0.0, 0.0, 0.0, 0.0, 0.0, 0.0, 0.0, 0.0, 0.0, 0.0, 0.0, 0.0, 0.0, 0.0, 0.0, 0.0, 0.0, 0.0, 0.0, 0.0, 0.0, 0.0, 0.0, 0.0, 0.0, 0.0, 0.0, 0.0, 0.0, 0.0, 0.0, 0.0, 0.0, 0.0, 0.0, 0.0, 0.0, 0.0, 0.0, 0.0, 0.0, 0.0, 0.0, 0.0, 0.0, 0.0, 0.0, 0.0, 0.0, 0.0, 0.0, 0.0, 0.0, 0.0, 0.0, 0.0, 0.0, 0.0, 0.0, 0.0, 0.0, 0.0, 0.0, 0.0, 0.0, 0.0, 0.0, 0.0, 0.0, 0.0, 0.0, 0.0, 0.0, 0.0, 0.0, 0.0, 0.0, 0.0, 0.0, 0.0, 0.0, 0.0, 0.0, 0.0, 0.0, 0.0, 0.0, 0.0, 0.0, 0.0, 0.0, 0.0, 0.0, 0.0, 0.0, 0.0, 0.0, 0.0, 0.0, 0.0, 0.0, 0.0, 0.0, 0.0, 0.0, 0.0, 0.0, 0.0, 0.0, 0.0, 0.0, 0.0, 0.0, 0.0, 0.0, 0.0, 0.0, 0.0, 0.0, 0.0, 0.0, 0.0, 0.0, 0.0, 0.0, 0.0, 0.0, 0.0, 0.0, 0.0, 0.0, 0.0, 0.0, 0.0, 0.0, 0.0, 0.0, 0.0, 0.0, 0.0, 0.0, 0.0, 0.0, 0.0, 0.0, 0.0, 0.0, 0.0, 0.0, 0.0, 0.0, 0.0, 0.0, 0.0, 0.0, 0.0, 0.0, 0.0, 0.0, 0.0, 0.0, 0.0, 0.0, 0.0, 0.0, 0.0, 0.0, 0.0, 0.0, 0.0, 0.0, 0.0, 0.0, 0.0, 0.0, 0.0, 0.0, 0.0, 0.0, 0.0, 0.0, 0.0, 0.0, 0.0, 0.0, 0.0, 0.0, 0.0, 0.0, 0.0, 0.0, 0.0, 0.0, 0.0, 0.0, 0.0, 0.0, 0.0, 0.0, 0.0, 0.0, 0.0, 0.0, 0.0, 0.0, 0.0, 0.0, 0.0, 0.0, 0.0, 0.0, 0.0, 0.0, 0.0, 0.0, 0.0, 0.0, 612.0, 595.0, 706.0, 706.0, 570.0, 131.0, 0.0, 413.0, 494.0, 642.0, 711.0, 0.0, 0.0, 0.0, 0.0, 0.0, 0.0, 811.0, 811.0, 1119.0, 1229.0, 1416.0, 1416.0, 996.0, 944.0, 974.0, 997.0, 970.0, 834.0, 0.0, 0.0, 0.0, 0.0, 0.0, 0.0, 0.0, 0.0, 0.0, 0.0, 0.0, 0.0, 0.0, 0.0, 0.0, 0.0, 0.0, 0.0, 0.0, 0.0, 0.0, 0.0, 0.0, 0.0, 0.0, 0.0, 0.0, 0.0, 0.0, 0.0, 0.0, 0.0, 0.0, 0.0, 0.0, 0.0, 0.0, 0.0, 0.0, 0.0, 0.0, 0.0, 0.0, 0.0, 0.0, 0.0, 0.0, 0.0, 0.0, 0.0, 0.0, 0.0, 0.0, 0.0, 0.0, 0.0, 0.0, 0.0, 0.0, 0.0, 0.0, 0.0, 0.0, 0.0, 0.0, 0.0, 0.0, 0.0, 0.0, 0.0, 0.0, 471.0, 471.0, 501.0, 492.0, 496.0, 503.0, 503.0, 474.0, 493.0, 489.0, 520.0, 490.0, 0.0, 0.0, 0.0, 0.0, 0.0, 0.0, 0.0, 0.0, 0.0, 0.0, 0.0, 0.0, 0.0, 0.0, 0.0, 0.0, 0.0, 0.0, 0.0, 0.0, 0.0, 0.0, 0.0, 0.0, 0.0, 0.0, 0.0, 0.0, 0.0, 0.0, 0.0, 0.0, 0.0, 0.0, 0.0, 0.0, 0.0, 0.0, 0.0, 0.0, 0.0, 0.0, 0.0, 0.0, 0.0, 0.0, 0.0, 0.0, 0.0, 0.0, 0.0, 0.0, 0.0, 0.0, 0.0, 0.0, 0.0, 0.0, 0.0, 0.0, 0.0, 0.0, 0.0, 0.0, 0.0, 0.0, 0.0, 0.0, 0.0, 0.0, 0.0, 0.0, 0.0, 0.0, 0.0, 0.0, 0.0, 0.0, 0.0, 0.0, 0.0, 0.0, 0.0, 0.0, 0.0, 0.0, 0.0, 0.0, 0.0, 0.0, 0.0, 0.0, 0.0, 422.0, 421.0, 422.0, 430.0, 407.0, 408.0, 403.0, 403.0, 422.0, 470.0, 510.0, 532.0, 555.0, 580.0, 669.0, 675.0, 656.0, 664.0, 684.0, 736.0, 780.0, 752.0, 764.0, 752.0, 785.0, 777.0, 788.0, 761.0, 670.0, 593.0, 593.0, 0.0, 483.0, 508.0, 597.0, 617.0, 580.0, 571.0, 548.0, 536.0, 0.0, 0.0, 634.0, 634.0, 638.0, 588.0, 467.0, 415.0, 414.0, 409.0, 409.0, 412.0, 414.0, 415.0, 419.0, 411.0, 0.0, 0.0, 0.0, 0.0, 0.0, 0.0, 0.0, 0.0, 0.0, 0.0, 0.0, 0.0, 0.0, 0.0, 0.0, 0.0, 0.0, 0.0, 0.0, 0.0, 0.0, 0.0, 0.0, 0.0, 0.0, 0.0, 0.0, 0.0, 0.0, 0.0, 0.0, 0.0, 0.0, 0.0, 0.0, 0.0, 0.0, 0.0, 0.0, 0.0, 0.0, 0.0, 0.0, 0.0, 0.0, 0.0, 0.0, 0.0, 0.0, 0.0, 0.0, 0.0, 0.0, 0.0, 0.0, 0.0, 0.0, 0.0, 0.0, 0.0, 0.0, 0.0, 0.0, 0.0, 0.0, 0.0, 0.0, 0.0, 0.0, 0.0, 0.0, 0.0, 0.0, 0.0, 0.0, 0.0, 0.0, 0.0, 0.0, 0.0, 0.0, 0.0, 0.0, 0.0, 0.0, 0.0, 0.0, 0.0, 0.0, 0.0, 0.0, 0.0, 0.0, 0.0, 0.0, 0.0, 0.0, 0.0, 0.0, 0.0, 0.0, 0.0, 0.0, 0.0, 0.0, 0.0, 0.0, 0.0, 0.0, 0.0, 0.0, 0.0, 0.0, 0.0, 0.0, 0.0, 0.0, 0.0, 0.0, 0.0, 0.0, 0.0, 0.0, 0.0, 0.0, 387.0, 387.0, 452.0, 448.0, 426.0, 405.0, 0.0, 0.0, 0.0, 0.0, 0.0, 0.0, 0.0, 0.0, 0.0, 0.0, 0.0, 0.0, 0.0, 0.0, 0.0, 0.0, 0.0, 0.0, 0.0, 240.0, 334.0, 334.0, 0.0, 0.0, 299.0, 299.0, 0.0, 0.0, 369.0, 369.0, 403.0, 403.0, 418.0, 0.0, 0.0, 0.0, 0.0, 0.0, 0.0, 0.0, 0.0, 0.0, 0.0, 0.0, 0.0, 0.0, 0.0, 0.0, 0.0, 0.0, 0.0, 0.0, 0.0, 0.0, 0.0, 0.0, 0.0, 0.0, 0.0, 0.0, 0.0, 0.0, 0.0, 0.0, 0.0, 0.0, 0.0, 0.0, 0.0, 0.0, 0.0, 0.0, 0.0, 0.0, 0.0, 0.0, 0.0, 0.0, 0.0, 0.0, 0.0, 0.0, 0.0, 0.0, 0.0, 0.0, 0.0, 0.0, 0.0, 0.0, 0.0, 0.0, 0.0, 0.0, 0.0, 0.0, 0.0, 0.0, 0.0, 0.0, 0.0, 0.0, 0.0, 0.0, 0.0, 0.0, 0.0, 0.0, 0.0, 0.0, 0.0, 0.0, 0.0, 0.0, 0.0, 0.0, 0.0, 0.0, 0.0, 0.0, 0.0, 0.0, 0.0, 0.0, 0.0, 0.0, 0.0, 0.0, 0.0, 0.0, 0.0, 0.0, 0.0, 0.0, 0.0, 0.0, 0.0, 0.0, 0.0, 0.0, 0.0, 0.0, 0.0, 0.0, 0.0, 0.0, 0.0, 0.0, 0.0, 0.0, 0.0, 0.0, 0.0, 0.0, 0.0, 0.0, 0.0, 0.0, 0.0, 0.0, 0.0, 0.0, 0.0, 0.0, 0.0, 0.0, 0.0, 0.0, 0.0, 0.0, 0.0, 0.0, 0.0, 0.0, 0.0, 0.0, 0.0, 0.0, 0.0, 0.0, 0.0, 0.0, 0.0, 0.0, 0.0, 0.0, 0.0, 0.0, 0.0, 0.0, 0.0, 0.0, 0.0, 0.0, 0.0, 0.0, 0.0, 0.0, 0.0, 0.0, 0.0, 0.0, 0.0, 0.0, 0.0, 0.0, 0.0, 0.0, 0.0, 0.0, 0.0, 0.0, 0.0, 0.0, 0.0, 0.0, 0.0, 0.0, 0.0, 0.0, 0.0, 0.0, 0.0, 0.0, 0.0, 0.0, 0.0, 240.0, 248.0, 228.0, 253.0, 264.0, 293.0, 257.0, 318.0, 318.0, 313.0, 347.0, 308.0, 357.0, 337.0, 350.0, 342.0, 407.0, 429.0, 433.0, 443.0, 434.0, 418.0, 340.0, 344.0, 323.0, 341.0, 336.0, 334.0, 376.0, 379.0, 389.0, 406.0, 398.0, 433.0, 454.0, 456.0, 436.0, 442.0, 442.0, 417.0, 418.0, 431.0, 431.0, 432.0, 438.0, 458.0, 440.0, 426.0]\n",
    "np.histogram(intensities, bins=[0, 1, 300, 400, 500, 600, 700, 800, 900, 1000, 1100, 1200, 1300])\n",
    "\n",
    "len(intensities)"
   ]
  },
  {
   "cell_type": "code",
   "execution_count": 29,
   "metadata": {},
   "outputs": [
    {
     "name": "stdout",
     "output_type": "stream",
     "text": [
      "Delta probability hit: 0.25\n",
      "Delta probability miss: 0.016\n",
      "sensor_model/hit: 0.75\n",
      "sensor_model/miss: 0.484\n"
     ]
    }
   ],
   "source": [
    "## Calculation of sensor_model parameters\n",
    "\n",
    "obstacle_size = 0.2\n",
    "resolution = 0.5\n",
    "\n",
    "delta_p_hit = 0.25 # € [0, 1] where 0 is very slow adding obstacles and 1 very fast\n",
    "delta_p_miss = obstacle_size**3 * delta_p_hit / resolution**3\n",
    "\n",
    "print \"Delta probability hit: \" + str(delta_p_hit)\n",
    "print \"Delta probability miss: \" + str(delta_p_miss)\n",
    "\n",
    "sensor_model_hit = 0.5 + delta_p_hit\n",
    "sensor_model_miss = 0.5 - delta_p_miss\n",
    "\n",
    "print \"sensor_model/hit: \" + str(sensor_model_hit)\n",
    "print \"sensor_model/miss: \" + str(sensor_model_miss)"
   ]
  },
  {
   "cell_type": "markdown",
   "metadata": {},
   "source": [
    "<a id='ResultSets'></a>\n",
    "###### Result sets"
   ]
  },
  {
   "cell_type": "markdown",
   "metadata": {},
   "source": [
    "Scenarios:\n",
    "1. Karting (describe karting)\n",
    "    1. Size\n",
    "    1. Flat terrain except for some obstacles\n",
    "    1. Obstacles: \n",
    "        1. large metallic structure (add picture) size x by x by x\n",
    "        1. small tree\n",
    "        1. many tires piled on the floor\n",
    "        \n",
    "1. Octrees\n",
    "    1. 20180823_1110_raw collected at second 5 of bag 20180821_1110_manyRuns_karting_filterTfScan.bag . \n",
    "    This was after scanning an area of x by x by x there was much dust in the run. \n",
    "    1. 20180823_1110_filtered same bag and time point as previously but laser measurement intensity filter. Used only points with intensity € [0, 1] and [400, 2000].\n",
    "        \n",
    "    \n",
    "1. Testing conditions\n",
    "    1. Live. The results were collected running the algorithm onboard the platform alongside data collection drivers, mapping generation and communication with px4.\n",
    "    1. Hardware in the loop (hitl). The results were collected running the algorithm onboard the platform. Localization and mapping sourced from previous live flight.\n",
    "    \n",
    "1. Datasets   \n",
    "Always safety margin of 2.5 to each side.\n",
    "    1. 20180823_1110_raw ( -3.9; -14.76; 7) to (7.49; -6.98; 7) hitl\n",
    "    1. 20180823_1110 filtered ( -3.9; -14.76; 7) to (7.49; -6.98; 7) hitl\n",
    "    1. 20180823_1110_raw (7.49; -6.98; 7) to (-3.9; -14.76; 7) hitl\n",
    "    2. 20180823_1110_filtered (7.49; -6.98; 7) to (-3.9; -14.76; 7) hitl"
   ]
  },
  {
   "cell_type": "markdown",
   "metadata": {},
   "source": [
    "<a id='Deterministic'></a>\n",
    "###### Deterministic"
   ]
  },
  {
   "cell_type": "markdown",
   "metadata": {},
   "source": [
    "For fixed:\n",
    "- octree\n",
    "- start\n",
    "- goal\n",
    "- margin\n",
    "The output is always the same.\n",
    "The average time in hitl is x standard deviation y\n",
    "The average time is live is w standard deviation z"
   ]
  },
  {
   "cell_type": "code",
   "execution_count": 2,
   "metadata": {},
   "outputs": [
    {
     "name": "stdout",
     "output_type": "stream",
     "text": [
      "Analysis of time in millis by lenght of output path in meters. buckets by 10 m\n",
      " = 11.0 = \n",
      "[1134]\n",
      "Standard deviation: 0.0\n",
      "Mean: 1134.0\n",
      "Percentage: nan\n",
      "Span: 0 millis\n",
      " = 13.0 = \n",
      "[51631, 51646, 51650, 51651, 51668, 51668, 51647, 51662, 51649, 51638, 23161, 23173, 23162, 23162, 23161, 23165, 23161, 23163, 23162, 23162, 16238, 16230, 16230, 16230, 16230, 16229, 16228, 16230, 16230, 16231]\n",
      "Standard deviation: 15326.8858827\n",
      "Mean: 30348.2666667\n",
      "Percentage: 43.2474206623\n",
      "Span: 35440 millis\n"
     ]
    },
    {
     "name": "stderr",
     "output_type": "stream",
     "text": [
      "/usr/local/lib/python2.7/dist-packages/ipykernel_launcher.py:61: RuntimeWarning:\n",
      "\n",
      "invalid value encountered in double_scalars\n",
      "\n"
     ]
    }
   ],
   "source": [
    "exec(open(\"python/20180830_deterministic.py\").read())"
   ]
  },
  {
   "cell_type": "markdown",
   "metadata": {},
   "source": [
    "For each set of octree, start, goal and margin the output set of waypoints is always the same.\n",
    "Each set was run x times.\n",
    "The sets are those [above](#ResultSets)\n",
    "The time the algorithm takes to reach the solution is 30348 millis +- 15326"
   ]
  },
  {
   "cell_type": "markdown",
   "metadata": {},
   "source": [
    "<a id='Path_lenght_variability'></a>\n",
    "###### Path lenght variability"
   ]
  },
  {
   "cell_type": "markdown",
   "metadata": {},
   "source": [
    "- Switch start and end points.\n",
    "- Keep start & end, change filter to non filter.\n",
    "- Start & end points with similar obstacles."
   ]
  },
  {
   "cell_type": "code",
   "execution_count": null,
   "metadata": {},
   "outputs": [],
   "source": []
  }
 ],
 "metadata": {
  "kernelspec": {
   "display_name": "Python 2",
   "language": "python",
   "name": "python2"
  },
  "language_info": {
   "codemirror_mode": {
    "name": "ipython",
    "version": 2
   },
   "file_extension": ".py",
   "mimetype": "text/x-python",
   "name": "python",
   "nbconvert_exporter": "python",
   "pygments_lexer": "ipython2",
   "version": "2.7.11+"
  }
 },
 "nbformat": 4,
 "nbformat_minor": 2
}
