{
 "cells": [
  {
   "cell_type": "code",
   "execution_count": 1,
   "metadata": {},
   "outputs": [],
   "source": [
    "import plotly\n",
    "import pandas as pd\n",
    "import plotly.io as pio\n",
    "\n",
    "def calculateMinutesPerView(file_path):\n",
    "    df = pd.read_csv(file_path)\n",
    "    flights = df.visit_waypoints_millis\n",
    "    # the flight time of the initial maneuver is not taken into account.\n",
    "    flight_count = flights.dropna().count() - 1\n",
    "    flight_time_sum = df.visit_waypoints_millis.drop([0]).sum()\n",
    "    minutes_per_view = (flight_time_sum + df.ltstar_millis.sum() + df.global_exploration_millis.sum() + df.local_exploration_millis.sum() )/ flight_count / 1000 / 60\n",
    "    return minutes_per_view\n",
    "\n",
    "import os\n",
    "folder_path = \"/media/mfaria/Ganesha/20171219_backup_home_catec/Margarida/20190100_exploration/sim_data/valid\"\n",
    "files = []\n",
    "# r=root, d=directories, f = files\n",
    "for r, d, f in os.walk(folder_path):\n",
    "    for file in f:\n",
    "        if \"state_machine_execution_times.csv\" in file:\n",
    "            files.append(os.path.join(r, file))"
   ]
  },
  {
   "cell_type": "code",
   "execution_count": 14,
   "metadata": {},
   "outputs": [
    {
     "name": "stdout",
     "output_type": "stream",
     "text": [
      "The average minutes per view is 6.63509721024 +- 1.93226066538\n",
      "The median exploration time is 5.99804136364 bounded by 5.31382361111 and 10.4718935897\n"
     ]
    }
   ],
   "source": [
    "minutes_per_view = pd.DataFrame([calculateMinutesPerView(f) for f in files])\n",
    "mpv_average = minutes_per_view.mean()\n",
    "mpv_standarDeviation = minutes_per_view.std()\n",
    "print \"The average minutes per view is {} +- {}\".format(mpv_average[0], mpv_standarDeviation[0])\n",
    "print \"The median exploration time is {} bounded by {} and {}\".format(minutes_per_view.median()[0],  minutes_per_view.min()[0],  minutes_per_view.max()[0])\n"
   ]
  },
  {
   "cell_type": "code",
   "execution_count": 8,
   "metadata": {},
   "outputs": [],
   "source": [
    "def calculateTotalTime(file_path):\n",
    "    df = pd.read_csv(file_path)\n",
    "    return (df.visit_waypoints_millis.sum() + df.ltstar_millis.sum() + df.global_exploration_millis.sum() + df.local_exploration_millis.sum() ) / 1000 / 60"
   ]
  },
  {
   "cell_type": "code",
   "execution_count": 13,
   "metadata": {},
   "outputs": [
    {
     "name": "stdout",
     "output_type": "stream",
     "text": [
      "The average is 78.0329638889 +- 29.6913503394\n",
      "The median exploration time is 67.7332916667 bounded by 59.43235 and 137.7352\n"
     ]
    }
   ],
   "source": [
    "minutes_per_view = pd.DataFrame([calculateTotalTime(f) for f in files])\n",
    "mpv_average = minutes_per_view.mean()\n",
    "mpv_standarDeviation = minutes_per_view.std()\n",
    "print \"The average is {} +- {}\".format(mpv_average[0], mpv_standarDeviation[0])\n",
    "\n",
    "\n",
    "print \"The median exploration time is {} bounded by {} and {}\".format(minutes_per_view.median()[0],  minutes_per_view.min()[0],  minutes_per_view.max()[0])\n",
    "\n"
   ]
  },
  {
   "cell_type": "code",
   "execution_count": null,
   "metadata": {},
   "outputs": [],
   "source": []
  }
 ],
 "metadata": {
  "kernelspec": {
   "display_name": "Python 2",
   "language": "python",
   "name": "python2"
  },
  "language_info": {
   "codemirror_mode": {
    "name": "ipython",
    "version": 2
   },
   "file_extension": ".py",
   "mimetype": "text/x-python",
   "name": "python",
   "nbconvert_exporter": "python",
   "pygments_lexer": "ipython2",
   "version": "2.7.15"
  }
 },
 "nbformat": 4,
 "nbformat_minor": 2
}
