{
 "cells": [
  {
   "cell_type": "code",
   "execution_count": null,
   "metadata": {},
   "outputs": [],
   "source": [
    "import plotly\n",
    "import time_vs_pathLegth_lazyThetaStar as d\n",
    "import pandas as pd\n",
    "plotly.offline.init_notebook_mode()\n",
    "\n",
    "csv_filepath = \"\"\n",
    "data_frame = pd.read_csv(csv_filepath)\n",
    "\n",
    "# Obstacle density\n",
    "datasets_labels = ['Synthetic map', 'Experimental Snapshots']\n",
    "datsets_colors = ['rgb(255,255,191)', 'rgb(252,141,89)']\n",
    "polynomial_degree = 2\n",
    "start = 0\n",
    "\n",
    "title = \"Obstacle density\"\n",
    "datasets = [data_39_ortho, data_SparseOriginal[data_SparseOriginal.dataset_name.str.contains('ortho')]] #Missing data_39_original\n",
    "d.plot_obstacleDensity_dynamicTraces(datasets, datasets_labels, datsets_colors, title)\n"
   ]
  }
 ],
 "metadata": {
  "kernelspec": {
   "display_name": "Python 2",
   "language": "python",
   "name": "python2"
  },
  "language_info": {
   "codemirror_mode": {
    "name": "ipython",
    "version": 2
   },
   "file_extension": ".py",
   "mimetype": "text/x-python",
   "name": "python",
   "nbconvert_exporter": "python",
   "pygments_lexer": "ipython2",
   "version": "2.7.15"
  }
 },
 "nbformat": 4,
 "nbformat_minor": 2
}
