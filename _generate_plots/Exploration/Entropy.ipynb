{
 "cells": [
  {
   "cell_type": "code",
   "execution_count": 1,
   "metadata": {},
   "outputs": [],
   "source": [
    "import plotly\n",
    "import pandas as pd\n",
    "import plotly.io as pio\n",
    "import plotly.graph_objs as go\n",
    "\n",
    "csv_filepath = \"/home/mfaria/Flying_Octomap_code/src/data/current/frontiers.csv\"\n",
    "\n",
    "df = pd.read_csv(csv_filepath)\n",
    "\n"
   ]
  },
  {
   "cell_type": "code",
   "execution_count": 2,
   "metadata": {},
   "outputs": [
    {
     "data": {
      "application/vnd.plotly.v1+json": {
       "data": [
        {
         "mode": "lines+markers",
         "name": "Total Entropy",
         "type": "scatter",
         "uid": "f98a6d9c-e631-11e9-892a-ace2d3611e0a",
         "x": [
          0.014933333333333333,
          1.0355,
          2.5988666666666664,
          4.260583333333333,
          5.131833333333334,
          5.158016666666667,
          5.197616666666667,
          5.231116666666667,
          7.7056000000000004
         ],
         "y": [
          496623,
          473478,
          435575,
          422361,
          395394,
          394589,
          393721,
          392391,
          368349
         ]
        }
       ],
       "layout": {
        "font": {
         "family": "Courier New, monospace",
         "size": 18
        },
        "title": "Total entropy",
        "titlefont": {
         "family": "Courier New, monospace",
         "size": 34
        },
        "xaxis": {
         "dtick": 10,
         "gridcolor": "#c4e8e8",
         "gridwidth": 1,
         "title": "Timeline (minutes)",
         "titlefont": {
          "family": "Courier New, monospace",
          "size": 24
         }
        },
        "yaxis": {
         "gridcolor": "#c4e8e8",
         "gridwidth": 1,
         "title": "Entropy",
         "titlefont": {
          "family": "Courier New, monospace",
          "size": 24
         }
        }
       }
      }
     },
     "metadata": {},
     "output_type": "display_data"
    }
   ],
   "source": [
    "trace = go.Scatter(\n",
    "    y=(df.total_entropy),\n",
    "    x=(df.time_ellapsed_millis/1000)/60,\n",
    "    mode = 'lines+markers',\n",
    "    name = 'Total Entropy'\n",
    ")\n",
    "\n",
    "\n",
    "layout = go.Layout(\n",
    "        font=dict(\n",
    "            family='Courier New, monospace',\n",
    "            size=18\n",
    "        ),\n",
    "        title=\"Total entropy\",\n",
    "        titlefont=dict(\n",
    "            family='Courier New, monospace',\n",
    "            size=34,\n",
    "        ),\n",
    "        xaxis=dict(\n",
    "            title='Timeline (minutes)',\n",
    "            titlefont=dict(\n",
    "                family='Courier New, monospace',\n",
    "                size=24\n",
    "            ),\n",
    "            dtick=10,\n",
    "            gridwidth = 1,\n",
    "            gridcolor = '#c4e8e8'\n",
    "        ),\n",
    "        yaxis=dict(\n",
    "            title='Entropy',\n",
    "            titlefont=dict(\n",
    "                family='Courier New, monospace',\n",
    "                size=24\n",
    "            ),\n",
    "            gridwidth = 1,\n",
    "            gridcolor = '#c4e8e8'\n",
    "        )\n",
    "    )\n",
    "traces = [ trace]\n",
    "fig=dict(data=traces, layout=layout)\n",
    "plotly.offline.iplot(fig)"
   ]
  },
  {
   "cell_type": "code",
   "execution_count": 3,
   "metadata": {},
   "outputs": [
    {
     "data": {
      "application/vnd.plotly.v1+json": {
       "data": [
        {
         "mode": "lines+markers",
         "name": "Total Entropy",
         "type": "scatter",
         "uid": "f98a6d9e-e631-11e9-892a-ace2d3611e0a",
         "x": [
          0.014933333333333333,
          1.0355,
          2.5988666666666664,
          4.260583333333333,
          5.131833333333334,
          5.158016666666667,
          5.197616666666667,
          5.231116666666667,
          7.7056000000000004
         ],
         "y": [
          496623,
          473478,
          435575,
          422361,
          395394,
          394589,
          393721,
          392391,
          368349
         ]
        }
       ],
       "layout": {
        "font": {
         "family": "Courier New, monospace",
         "size": 18
        },
        "title": "Total entropy",
        "titlefont": {
         "family": "Courier New, monospace",
         "size": 34
        },
        "xaxis": {
         "dtick": 10,
         "gridcolor": "#c4e8e8",
         "gridwidth": 1,
         "title": "Timeline (minutes)",
         "titlefont": {
          "family": "Courier New, monospace",
          "size": 24
         }
        },
        "yaxis": {
         "gridcolor": "#c4e8e8",
         "gridwidth": 1,
         "title": "Entropy",
         "titlefont": {
          "family": "Courier New, monospace",
          "size": 24
         }
        }
       }
      }
     },
     "metadata": {},
     "output_type": "display_data"
    }
   ],
   "source": [
    "\n",
    "\n",
    "plotly.offline.plot(fig, filename='./occupied_vs_time.html', image='png')\n",
    "\n",
    "\n",
    "plotly.offline.iplot(fig)\n",
    "pio.write_image(fig, '/media/mfaria/Ganesha/20171219_backup_home_catec/Margarida/20190100_exploration/entropy.pdf', scale=2)"
   ]
  },
  {
   "cell_type": "code",
   "execution_count": null,
   "metadata": {},
   "outputs": [],
   "source": []
  }
 ],
 "metadata": {
  "kernelspec": {
   "display_name": "Python 2",
   "language": "python",
   "name": "python2"
  },
  "language_info": {
   "codemirror_mode": {
    "name": "ipython",
    "version": 2
   },
   "file_extension": ".py",
   "mimetype": "text/x-python",
   "name": "python",
   "nbconvert_exporter": "python",
   "pygments_lexer": "ipython2",
   "version": "2.7.15"
  }
 },
 "nbformat": 4,
 "nbformat_minor": 2
}
