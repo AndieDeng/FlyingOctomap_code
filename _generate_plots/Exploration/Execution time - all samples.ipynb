{
 "cells": [
  {
   "cell_type": "code",
   "execution_count": 1,
   "metadata": {},
   "outputs": [],
   "source": [
    "import plotly\n",
    "import pandas as pd\n",
    "import plotly.io as pio\n",
    "import plotly.graph_objs as go\n",
    "\n",
    "def calculateMinutesPerView(file_path):\n",
    "    df = pd.read_csv(file_path)\n",
    "    flights = df.visit_waypoints_millis\n",
    "    # the flight time of the initial maneuver is not taken into account.\n",
    "    flight_count = flights.dropna().count() - 1\n",
    "    flight_time_sum = df.visit_waypoints_millis.drop([0]).sum()\n",
    "    minutes_per_view = (flight_time_sum + df.ltstar_millis.sum() + df.global_exploration_millis.sum() + df.local_exploration_millis.sum() )/ flight_count / 1000 / 60\n",
    "    return minutes_per_view\n",
    "\n",
    "import os\n",
    "folder_path = \"/media/mfaria/Ganesha/20171219_backup_home_catec/Margarida/20190100_exploration/sim_data/valid\"\n",
    "folder_path = \"/home/mfaria/Flying_Octomap_code/src/data/current\"\n",
    "files = []\n",
    "# r=root, d=directories, f = files\n",
    "for r, d, f in os.walk(folder_path):\n",
    "    for file in f:\n",
    "        if \"state_machine_execution_times.csv\" in file:\n",
    "            files.append(os.path.join(r, file))"
   ]
  },
  {
   "cell_type": "code",
   "execution_count": 2,
   "metadata": {},
   "outputs": [
    {
     "name": "stdout",
     "output_type": "stream",
     "text": [
      "The average minutes per view is 1.50018695652 +- nan\n",
      "The median exploration time is 1.50018695652 bounded by 1.50018695652 and 1.50018695652\n"
     ]
    }
   ],
   "source": [
    "minutes_per_view = pd.DataFrame([calculateMinutesPerView(f) for f in files])\n",
    "mpv_average = minutes_per_view.mean()\n",
    "mpv_standarDeviation = minutes_per_view.std()\n",
    "print \"The average minutes per view is {} +- {}\".format(mpv_average[0], mpv_standarDeviation[0])\n",
    "print \"The median exploration time is {} bounded by {} and {}\".format(minutes_per_view.median()[0],  minutes_per_view.min()[0],  minutes_per_view.max()[0])\n"
   ]
  },
  {
   "cell_type": "code",
   "execution_count": 3,
   "metadata": {},
   "outputs": [],
   "source": [
    "def calculateTotalTime(file_path):\n",
    "    df = pd.read_csv(file_path)\n",
    "    return (df.visit_waypoints_millis.sum() + df.ltstar_millis.sum() + df.global_exploration_millis.sum() + df.local_exploration_millis.sum() ) / 1000 / 60"
   ]
  },
  {
   "cell_type": "code",
   "execution_count": 4,
   "metadata": {},
   "outputs": [
    {
     "name": "stdout",
     "output_type": "stream",
     "text": [
      "The average is 34.5043 +- nan\n",
      "The median exploration time is 34.5043 bounded by 34.5043 and 34.5043\n"
     ]
    }
   ],
   "source": [
    "minutes_per_view = pd.DataFrame([calculateTotalTime(f) for f in files])\n",
    "mpv_average = minutes_per_view.mean()\n",
    "mpv_standarDeviation = minutes_per_view.std()\n",
    "print \"The average is {} +- {}\".format(mpv_average[0], mpv_standarDeviation[0])\n",
    "\n",
    "\n",
    "print \"The median exploration time is {} bounded by {} and {}\".format(minutes_per_view.median()[0],  minutes_per_view.min()[0],  minutes_per_view.max()[0])\n",
    "\n"
   ]
  },
  {
   "cell_type": "code",
   "execution_count": 5,
   "metadata": {},
   "outputs": [],
   "source": [
    "all_files = pd.DataFrame(pd.DataFrame(pd.read_csv(f).sum())[0] for f in files)"
   ]
  },
  {
   "cell_type": "code",
   "execution_count": 6,
   "metadata": {},
   "outputs": [
    {
     "data": {
      "application/vnd.plotly.v1+json": {
       "data": [
        {
         "hole": 0.4,
         "labels": [
          "Visit waypoints",
          "Global Exploration",
          "Local Exploration",
          "Path Planner"
         ],
         "marker": {
          "colors": [
           "#9467bd",
           "#ff800e",
           "#ffd6b2",
           "#2ca02c"
          ],
          "line": {
           "color": "#ffffff",
           "width": 2
          }
         },
         "textfont": {
          "color": "#1f77b4"
         },
         "type": "pie",
         "uid": "a950b03c-c815-11e9-8355-ace2d3611e0a",
         "values": [
          1538961,
          164436,
          25670,
          341191
         ]
        }
       ],
       "layout": {
        "font": {
         "family": "Courier New, monospace",
         "size": 18
        },
        "title": "Execution time by task over all runs",
        "titlefont": {
         "family": "Courier New, monospace",
         "size": 24
        }
       }
      }
     },
     "metadata": {},
     "output_type": "display_data"
    }
   ],
   "source": [
    "labels = ['Visit waypoints','Global Exploration','Local Exploration','Path Planner']\n",
    "values = [all_files.visit_waypoints_millis.sum(), all_files.global_exploration_millis.sum(), all_files.local_exploration_millis.sum(), all_files.ltstar_millis.sum()]\n",
    "colors = ['#9467bd', '#ff800e', '#ffd6b2', '#2ca02c']\n",
    "trace = go.Pie(\n",
    "    labels=labels, \n",
    "    values=values,\n",
    "    hole=0.4,\n",
    "    textfont=dict(color='#1f77b4'),\n",
    "    marker=dict(colors=colors, \n",
    "                       line=dict(color='#ffffff', width=2)))\n",
    "\n",
    "layout = go.Layout(\n",
    "        font=dict(\n",
    "            family='Courier New, monospace',\n",
    "            size=18\n",
    "        ),\n",
    "        title=\"Execution time by task over all runs\",\n",
    "        titlefont=dict(\n",
    "            family='Courier New, monospace',\n",
    "            size=24,\n",
    "        )\n",
    "    )\n",
    "\n",
    "fig=dict(data=[trace], layout=layout)\n",
    "\n",
    "plotly.offline.iplot(fig)\n",
    "#pio.write_image(fig, '/media/mfaria/Ganesha/20171219_backup_home_catec/Margarida/20190100_exploration/sim_data/valid/execTime_pie.pdf', scale=2)\n",
    "pio.write_image(fig, '/home/mfaria/Flying_Octomap_code/src/data/current/execTime_pie.pdf', scale=2)\n"
   ]
  },
  {
   "cell_type": "code",
   "execution_count": null,
   "metadata": {},
   "outputs": [],
   "source": []
  }
 ],
 "metadata": {
  "kernelspec": {
   "display_name": "Python 2",
   "language": "python",
   "name": "python2"
  },
  "language_info": {
   "codemirror_mode": {
    "name": "ipython",
    "version": 2
   },
   "file_extension": ".py",
   "mimetype": "text/x-python",
   "name": "python",
   "nbconvert_exporter": "python",
   "pygments_lexer": "ipython2",
   "version": "2.7.15"
  }
 },
 "nbformat": 4,
 "nbformat_minor": 2
}
