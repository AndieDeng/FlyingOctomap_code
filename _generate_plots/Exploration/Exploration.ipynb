{
 "cells": [
  {
   "cell_type": "markdown",
   "metadata": {},
   "source": [
    "# Exploration Instructions"
   ]
  },
  {
   "cell_type": "markdown",
   "metadata": {},
   "source": [
    "### Contents\n",
    "\n",
    "1. **Introduction**\n",
    "    1. [Why the problem is important](#intro)\n",
    "    1. [What is lacking in the current knowledge / State of the art](#stateOfTheArt)\n",
    "    1. [Objectives of the study & research question ](#researchQuestion)\n",
    "    1. [Contribution](#contribution)\n",
    "\n",
    "1. **Methods**\n",
    "    1. [Installation](#installation)\n",
    "    1. [Run](#run)\n",
    "    1. [Study design](#studyDesign)\n",
    "    1. [Study variables](#studyVariables)\n",
    "    \n",
    "1. [**Experimental Results**](#ExperimentalResults)\n",
    "    1. [Filter questions](#OpenQuestions)\n",
    "    1. [Result Sets](#ResultSets)\n",
    "    1. [Deterministic](#Deterministic)\n",
    "    1. [Path lenght variability](#Path_lenght_variability)\n",
    "    1. [Obstacle avoidance run time](#Obstacle_avoidance_run_time)"
   ]
  },
  {
   "cell_type": "markdown",
   "metadata": {},
   "source": [
    "## Introduction"
   ]
  },
  {
   "cell_type": "markdown",
   "metadata": {},
   "source": [
    "<a id='run'></a>\n",
    "#### 2.B Run\n",
    "\n",
    "For Jupyter the path was taken out of bashrc for PYTHONPATH reasons.      \n",
    "Now add `export PATH=$PATH:/home/mfaria/anaconda2/bin` before launching server."
   ]
  },
  {
   "cell_type": "markdown",
   "metadata": {},
   "source": [
    "###### Hardware in the Loop (HitL)\n",
    "         \n",
    "         \n",
    "1. **Laptop** Setup basics for px4 simulation\n",
    "    1. `source /usr/share/gazebo/setup.sh `\n",
    "    1. `source ~/Flying_Octomap_code/devel/setup.bash`\n",
    "    1. `export ROS_IP=10.0.250.72`\n",
    "    1. `export ROS_MASTER_URI=http://10.0.250.73:11311`\n",
    "\n",
    "1. **UpBoard** Launch code\n",
    "    1. `source ~/Flying_Octomap_code/devel/setup.bash`\n",
    "    1. `export ROS_IP=10.0.250.73`\n",
    "    1. `roscore`\n",
    "\n",
    "1. **Laptop** Launch px4 simulation (2 terminals)\n",
    "    1. `roslaunch architecture px4_ual_powerPlant.launch` \n",
    "\n",
    "1. **Upboard** Launch rviz\n",
    "    1. `roslaunch architecture hitl_upboard_powerPlant.launch`\n",
    "        \n",
    "    \n"
   ]
  },
  {
   "cell_type": "markdown",
   "metadata": {},
   "source": [
    "**Extract data - simulation**\n",
    "\n",
    "Octomap for 3D puzzle generated at tag 3Dpuzzle\n",
    "\n",
    "Deliverables:\n",
    "- Octree\n",
    "- Image with path\n",
    "- Measurements in .csv file\n",
    "\n",
    "Method:\n",
    "1. Run everything in laptop to generate the octomap\n",
    "1. Instructions try 3 (no more docker...)\n",
    "1. `roslaunch architecture hitl_laptop_px4_simulation.launch`\n",
    "    1. `param set MC_YAWRATE_MAX 100`\n",
    "    1. `commander mode offboard`\n",
    "    1. `commander arm`\n",
    "1. `roslaunch mavros px4.launch fcu_url:=\"udp://:14540@127.0.0.1:14557\"` \n",
    "1. `rviz` with sim_filterPointCloud.rviz"
   ]
  },
  {
   "cell_type": "markdown",
   "metadata": {},
   "source": [
    "**Extract data - real flight**\n",
    "\n",
    "Deliverables:\n",
    "- Octree\n",
    "- Image with path\n",
    "- Measurements in .csv file\n",
    "\n",
    "Method:\n",
    "1. run bag at rate 20 to identify point in time of request and take picture of the path.\n",
    "2. filter the bag with tf and scan only\n",
    "3. run `roslaunch architecture hitl_laptop_saveOctomap.launch` with reply of filtered bag, saving octree at identified points `rosrun octomap_server octomap_saver  file_name.bt`\n",
    "4. run __ to verify output with filtered octree. Find valid path.\n",
    "5. Add octree + start&goal as a test."
   ]
  },
  {
   "cell_type": "markdown",
   "metadata": {},
   "source": [
    "**Extract data - unit tests**\n",
    "Deliverables:\n",
    "- Measurements in .csv file\n",
    "\n",
    "Method:\n",
    "- At upboard take care the path for csv is correct in both ortho and sparse (file system and remove current).\n",
    "- Comment out macro ROS_RUNNING\n",
    "- `catkin run_tests -j1 lazy_theta_star`"
   ]
  },
  {
   "cell_type": "markdown",
   "metadata": {},
   "source": [
    "<a id='studyDesign'></a>\n",
    "#### 2.C Study Design"
   ]
  },
  {
   "cell_type": "markdown",
   "metadata": {},
   "source": [
    "Comparisions:\n",
    "- It would be nice to compare against someone else's algorithm. MoveIt! seems to be the only 3D option of the shelf. See if this can be run from the bags. Also mention in future work that it will be compared - as it will...\n",
    "- Regular grid & sparse?\n",
    "\n",
    "20 runs from bag the see more statistically results.\n",
    "\n",
    "Run around 3 in real life. Try to be with same flight.\n",
    "\n",
    "Parameter sweep.\n",
    "\n",
    "Exploration on a simulated scenario and then group by length of generated path."
   ]
  },
  {
   "cell_type": "markdown",
   "metadata": {},
   "source": [
    "<a id='studyVariables'></a>\n",
    "#### 2.D Study Variables"
   ]
  },
  {
   "cell_type": "markdown",
   "metadata": {},
   "source": [
    "- Computation time\n",
    "- RAM\n",
    "- Path length free space\n",
    "- Path lenght w/ obstacles: compare with manual measurement.\n",
    "- ~~Failure percentage~~\n",
    "    - ~~Naive max resolution neighbors~~\n",
    "    - ~~Different fractions of security margin~~\n",
    "- Diffence in margin size on the path\n",
    "- Computation time of just obstacle avoidance 3 loops vs geometric\n"
   ]
  },
  {
   "cell_type": "markdown",
   "metadata": {},
   "source": []
  },
  {
   "cell_type": "markdown",
   "metadata": {},
   "source": [
    "**Run plotly**\n",
    "1. Installation\n",
    "    1. `pip install plotly`\n",
    "    1. `pip install cufflinks`\n",
    "1. Run frontier extraction for box plots\n",
    "    1. `cd ~/Flying_Octomap_code/_generate_plots`\n",
    "    1. `python`\n",
    "    1. `variables= {}`\n",
    "    1. `execfile( \"compare_box_graphs.py\", variables )`"
   ]
  }
 ],
 "metadata": {
  "kernelspec": {
   "display_name": "Python 2",
   "language": "python",
   "name": "python2"
  },
  "language_info": {
   "codemirror_mode": {
    "name": "ipython",
    "version": 2
   },
   "file_extension": ".py",
   "mimetype": "text/x-python",
   "name": "python",
   "nbconvert_exporter": "python",
   "pygments_lexer": "ipython2",
   "version": "2.7.15"
  }
 },
 "nbformat": 4,
 "nbformat_minor": 2
}
