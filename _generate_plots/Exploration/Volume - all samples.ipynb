{
 "cells": [
  {
   "cell_type": "code",
   "execution_count": 1,
   "metadata": {},
   "outputs": [],
   "source": [
    "import plotly\n",
    "import pandas as pd\n",
    "import plotly.graph_objs as go\n",
    "import plotly.io as pio\n",
    "import os\n",
    "import volume as vol\n",
    "\n",
    "folder_path = \"/media/mfaria/Ganesha/20171219_backup_home_catec/Margarida/20190100_exploration/sim_data/valid\"\n",
    "#folder_path = \"/home/mfaria/Flying_Octomap_code/src/data\"\n",
    "files = []\n",
    "# r=root, d=directories, f = files\n",
    "for r, d, f in os.walk(folder_path):\n",
    "    for file in f:\n",
    "        if \"frontiers.csv\" in file:\n",
    "            files.append(os.path.join(r, file))\n",
    "            \n",
    "\n",
    "layout = go.Layout(\n",
    "    title='Volume of known map',\n",
    "    titlefont=dict(\n",
    "        family='Courier New, monospace',\n",
    "        size=24,\n",
    "    ),\n",
    "    xaxis=dict(\n",
    "        title='Time in minutes',\n",
    "        titlefont=dict(\n",
    "            family='Courier New, monospace',\n",
    "            size=18,\n",
    "            color='#7f7f7f'\n",
    "        ),\n",
    "        dtick=10\n",
    "    ),\n",
    "    yaxis=dict(\n",
    "        title='Explored volume (m )',\n",
    "        titlefont=dict(\n",
    "            family='Courier New, monospace',\n",
    "            size=18,\n",
    "            color='#7f7f7f'\n",
    "        )\n",
    "    )\n",
    ")"
   ]
  },
  {
   "cell_type": "code",
   "execution_count": 2,
   "metadata": {},
   "outputs": [],
   "source": [
    "def maxTime(file_path):\n",
    "    df = pd.read_csv(file_path)\n",
    "    return df.time_ellapsed_millis.max()\n",
    "\n",
    "millis = max([maxTime(f) for f in files]) ;\n",
    "\n",
    "# Geofence volume\n",
    "x_side = 70\n",
    "y_side = 38\n",
    "z_side = 31\n",
    "max_volume_m = x_side*y_side*z_side\n",
    "max_time = millis.max()\n",
    "trace_max_volume = go.Scatter(\n",
    "    x=[0, max_time/1000/60],\n",
    "    y=[max_volume_m, max_volume_m],\n",
    "    name='Geofence volume',\n",
    "    mode='lines',\n",
    ")"
   ]
  },
  {
   "cell_type": "code",
   "execution_count": 3,
   "metadata": {},
   "outputs": [
    {
     "data": {
      "text/plain": [
       "82460"
      ]
     },
     "execution_count": 3,
     "metadata": {},
     "output_type": "execute_result"
    }
   ],
   "source": [
    "max_volume_m"
   ]
  },
  {
   "cell_type": "code",
   "execution_count": 4,
   "metadata": {},
   "outputs": [],
   "source": [
    "def maxExploredVolume(file_path):\n",
    "    df = pd.read_csv(file_path)\n",
    "    return (df.free +df.occupied).max()\n",
    "\n",
    "maximum_explored_volume = max([maxExploredVolume(f) for f in files]) \n",
    "trace_max_explored_volume = go.Scatter(\n",
    "    x=[0, max_time/1000/60],\n",
    "    y=[maximum_explored_volume, maximum_explored_volume],\n",
    "    name='Maximum explored volume',\n",
    "    mode='lines',\n",
    ")"
   ]
  },
  {
   "cell_type": "code",
   "execution_count": null,
   "metadata": {},
   "outputs": [],
   "source": []
  },
  {
   "cell_type": "code",
   "execution_count": 5,
   "metadata": {},
   "outputs": [],
   "source": [
    "def volumeDf(file_path, label):\n",
    "    df = pd.read_csv(file_path)\n",
    "    trace_free_volume = go.Scatter(\n",
    "        x=df.time_ellapsed_millis/1000/60,\n",
    "        y=df.free +df.occupied,\n",
    "        name='Run ' + str(label),\n",
    "        mode='lines'\n",
    "    )\n",
    "    return trace_free_volume"
   ]
  },
  {
   "cell_type": "code",
   "execution_count": 6,
   "metadata": {},
   "outputs": [
    {
     "data": {
      "application/vnd.plotly.v1+json": {
       "data": [
        {
         "mode": "lines",
         "name": "Run 1",
         "type": "scatter",
         "uid": "a4edac3f-c8bc-11e9-8355-ace2d3611e0a",
         "x": [
          0.0017666666666666666,
          1.1772500000000001,
          3.3916,
          4.3513166666666665,
          5.401183333333334,
          6.454383333333333,
          7.4621,
          8.880633333333332,
          10.087133333333332,
          10.382299999999999,
          15.000083333333333,
          16.588833333333334,
          17.59648333333333,
          17.76875,
          18.780416666666667,
          18.960033333333335,
          19.129983333333332,
          19.313083333333335,
          19.484933333333334,
          19.654633333333333,
          19.84065,
          20.0101,
          20.200033333333334,
          20.390083333333333,
          20.596416666666666,
          20.770933333333335,
          20.940833333333334,
          21.125333333333334,
          22.282683333333335,
          22.471083333333336,
          22.661266666666666,
          22.8478,
          23.061899999999998,
          24.218766666666667,
          24.4056,
          24.6023,
          24.8045,
          25.00945,
          26.789966666666665,
          26.999533333333332,
          27.19765,
          27.395016666666667,
          27.59348333333333,
          27.804100000000002,
          28.024749999999997,
          28.226883333333333,
          28.44,
          28.673583333333333,
          30.94865,
          31.16211666666667,
          31.40265,
          31.675616666666667,
          33.01306666666667,
          33.2356,
          33.4985,
          35.46853333333333,
          36.95911666666667,
          38.270316666666666,
          39.69361666666667,
          39.8897,
          40.0946,
          40.3208,
          40.56036666666667,
          40.81131666666667,
          41.04023333333334,
          41.2648,
          41.49745,
          41.7393,
          41.978316666666665,
          42.220416666666665,
          42.493900000000004,
          42.77223333333333,
          43.167633333333335,
          45.08891666666667,
          45.351549999999996,
          46.74406666666666,
          46.971599999999995,
          48.55721666666667,
          48.813599999999994,
          51.02178333333333,
          53.391616666666664,
          53.631883333333334,
          55.571466666666666,
          55.808099999999996,
          56.06571666666667,
          58.001416666666664,
          59.739333333333335,
          61.45633333333333,
          61.754400000000004,
          62.05478333333333,
          62.347899999999996,
          62.65805,
          62.91656666666667,
          63.193,
          64.75433333333334,
          67.66055,
          67.91828333333333,
          71.39203333333333,
          73.3711,
          73.6126,
          73.9962,
          74.26491666666668,
          74.53883333333333,
          74.82931666666667,
          75.13968333333334,
          75.37123333333334,
          75.6237,
          75.91786666666667,
          76.2291,
          76.47956666666667,
          76.75068333333334,
          77.04781666666666,
          77.33201666666668,
          77.61446666666667,
          77.90934999999999,
          78.21735,
          78.50263333333334,
          78.95509999999999,
          82.01475,
          82.29881666666667,
          84.15158333333333,
          84.47466666666666,
          84.8115,
          85.09325,
          85.36864999999999,
          85.69176666666667,
          86.00488333333332,
          86.28173333333334,
          86.54776666666666,
          86.85558333333333,
          87.15846666666667,
          87.45135,
          91.45451666666666,
          94.45293333333333,
          94.73758333333333,
          94.9798,
          95.21119999999999,
          95.4926,
          95.78748333333333,
          96.29571666666668,
          99.06566666666666,
          99.30018333333334,
          99.54065,
          99.8815
         ],
         "y": [
          32214.525,
          38525.2,
          51355.75,
          58332.979999999996,
          64290.020000000004,
          65926.48,
          68466.12,
          71550,
          71808.6,
          71808.62,
          71808.65,
          75355.15,
          75658.42,
          75658.4,
          75789.7,
          75789.72,
          75793.88,
          75793.85,
          75793.92,
          75793.85,
          75793.85,
          75794.72,
          75796.98000000001,
          75797,
          75800.22,
          75800.25,
          75800.22,
          75800.25,
          76982.3,
          76982.25,
          76982.7,
          76982.72,
          76982.98000000001,
          77001,
          77002.6,
          77002.68000000001,
          77002.62,
          77002.68000000001,
          77350.5,
          77350.5,
          77350.5,
          77350.6,
          77350.6,
          77350.68000000001,
          77350.65,
          77350.6,
          77350.65,
          77350.6,
          77531.1,
          77531.12,
          77532.1,
          77532.68000000001,
          77607.22,
          77607.28,
          77607.22,
          77758.72,
          77777.6,
          77777.88,
          77987.95,
          77987.98000000001,
          77987.98000000001,
          77988,
          77988.05,
          77988.05,
          77988.05,
          77988.05,
          77988.05,
          77988,
          77988.05,
          77988.05,
          77988.05,
          77987.98000000001,
          77988.05,
          78155.31999999999,
          78155.5,
          79394.35,
          79394.38,
          80144.18000000001,
          80144.08,
          80421.35,
          80448.38,
          80448.38,
          80471.2,
          80471.2,
          80471.2,
          80477.81999999999,
          80552.88,
          80559.3,
          80559.28,
          80559.28,
          80559.25,
          80559.3,
          80559.25,
          80559.25,
          80609.95,
          80636.4,
          80636.4,
          80713.15,
          80731.01999999999,
          80730.98000000001,
          80730.98000000001,
          80730.95,
          80730.98000000001,
          80731.05,
          80731.05,
          80731.05,
          80731.05,
          80731.05,
          80731.01999999999,
          80731,
          80731.05,
          80731.05,
          80731.05,
          80731,
          80730.98000000001,
          80731,
          80731,
          80731.05,
          80896.51999999999,
          80896.51999999999,
          80949.78,
          80949.78,
          80949.78,
          80949.78,
          80949.78,
          80949.78,
          80949.78,
          80949.78,
          80949.78,
          80949.78,
          80949.78,
          80949.78,
          80952.9,
          80966.25,
          80966.22,
          80966.25,
          80966.25,
          80966.2,
          80966.25,
          80966.2,
          80966.28,
          80966.22,
          80966.28,
          80966.2
         ]
        },
        {
         "mode": "lines",
         "name": "Maximum explored volume",
         "type": "scatter",
         "uid": "a4edac40-c8bc-11e9-8355-ace2d3611e0a",
         "x": [
          0,
          99
         ],
         "y": [
          80966.28,
          80966.28
         ]
        },
        {
         "mode": "lines",
         "name": "Geofence volume",
         "type": "scatter",
         "uid": "a4edac41-c8bc-11e9-8355-ace2d3611e0a",
         "x": [
          0,
          99
         ],
         "y": [
          82460,
          82460
         ]
        }
       ],
       "layout": {
        "title": "Volume of known map",
        "titlefont": {
         "family": "Courier New, monospace",
         "size": 24
        },
        "xaxis": {
         "dtick": 10,
         "title": "Time in minutes",
         "titlefont": {
          "color": "#7f7f7f",
          "family": "Courier New, monospace",
          "size": 18
         }
        },
        "yaxis": {
         "title": "Explored volume (m )",
         "titlefont": {
          "color": "#7f7f7f",
          "family": "Courier New, monospace",
          "size": 18
         }
        }
       }
      }
     },
     "metadata": {},
     "output_type": "display_data"
    },
    {
     "data": {
      "text/plain": [
       "'file:///home/mfaria/Flying_Octomap_code/src/_generate_plots/Exploration/volume_exploration_vs_time.html'"
      ]
     },
     "execution_count": 6,
     "metadata": {},
     "output_type": "execute_result"
    }
   ],
   "source": [
    "traces = []\n",
    "label = 1\n",
    "for f in files:\n",
    "    traces.append(volumeDf(f, label))\n",
    "    label = label +1\n",
    "traces.append(trace_max_explored_volume)\n",
    "traces.append(trace_max_volume)\n",
    "fig=dict(data=traces, layout=layout)\n",
    "plotly.offline.plot(fig, filename='./volume_exploration_vs_time.html', image='png')\n",
    "plotly.offline.iplot(fig)\n",
    "pio.write_image(fig, '/media/mfaria/Ganesha/20171219_backup_home_catec/Margarida/20190100_exploration/sim_data/valid/volume_all_samples.pdf', scale=2)\n",
    "\n",
    "plotly.offline.plot(fig, filename='./volume_exploration_vs_time.html', image='png')"
   ]
  },
  {
   "cell_type": "code",
   "execution_count": 7,
   "metadata": {},
   "outputs": [
    {
     "name": "stdout",
     "output_type": "stream",
     "text": [
      "Explored 98.1885520252 percent of the explorable volume.\n"
     ]
    }
   ],
   "source": [
    "def percentExplored(file_path, max):\n",
    "    df = pd.read_csv(file_path)\n",
    "    d = ((df.free +df.occupied).max() * 100) /  max\n",
    "    print \"Explored {} percent of the explorable volume.\".format(d)\n",
    "    return d\n",
    "max_volume_explored_df = pd.DataFrame([percentExplored(f, max_volume_m) for f in files ])"
   ]
  },
  {
   "cell_type": "code",
   "execution_count": 8,
   "metadata": {},
   "outputs": [
    {
     "name": "stdout",
     "output_type": "stream",
     "text": [
      "The average is 98.1885520252 +- nan\n",
      "The median is 98.1885520252 bounded by 98.1885520252 and 98.1885520252\n"
     ]
    }
   ],
   "source": [
    "def statistics(df):\n",
    "    print \"The average is {} +- {}\".format(df.mean()[0], df.std()[0])\n",
    "    print \"The median is {} bounded by {} and {}\".format(df.median()[0],  df.min()[0],  df.max()[0])\n",
    "statistics(max_volume_explored_df)"
   ]
  },
  {
   "cell_type": "code",
   "execution_count": 9,
   "metadata": {},
   "outputs": [
    {
     "name": "stdout",
     "output_type": "stream",
     "text": [
      "Of the total explored space 97.7829288934 is free and  2.21697230007 is occupied.\n"
     ]
    }
   ],
   "source": [
    "for f in  files:\n",
    "    df = pd.read_csv(f)\n",
    "    total_reachable_volume = max(df.free +df.occupied)\n",
    "    if (total_reachable_volume == maximum_explored_volume):\n",
    "        last_row = df.tail(1)\n",
    "        percent_free =  last_row.free.values[0] * 100 / maximum_explored_volume\n",
    "        percent_occupied = last_row.occupied.values[0] * 100 / maximum_explored_volume\n",
    "\n",
    "        print \"Of the total explored space {} is free and  {} is occupied.\".format(percent_free, percent_occupied)"
   ]
  },
  {
   "cell_type": "code",
   "execution_count": 10,
   "metadata": {},
   "outputs": [
    {
     "name": "stdout",
     "output_type": "stream",
     "text": [
      "Geofence: 82460   Known: 80966.2   Free: 79171.2   Occupied: 1795.0\n",
      "98.1884550085 of the space is reachable. 96.0116420082 of the reachable space is free and  2.17681300024 is occupied.\n"
     ]
    }
   ],
   "source": [
    "for f in  files:\n",
    "    df = pd.read_csv(f)\n",
    "    total_reachable_volume = max(df.free +df.occupied)\n",
    "    if (total_reachable_volume == maximum_explored_volume):\n",
    "        last_row = df.tail(1)\n",
    "        percent_free =  last_row.free.values[0] * 100 / max_volume_m\n",
    "        percent_occupied = last_row.occupied.values[0] * 100 / max_volume_m\n",
    "        reachable= (last_row.free.values[0] + last_row.occupied.values[0]) * 100 / max_volume_m\n",
    "        known = (last_row.free.values[0] + last_row.occupied.values[0])\n",
    "        print \"Geofence: {}   Known: {}   Free: {}   Occupied: {}\".format(max_volume_m, known, last_row.free.values[0], last_row.occupied.values[0])\n",
    "        print \"{} of the space is reachable. {} of the reachable space is free and  {} is occupied.\".format(reachable, percent_free, percent_occupied)"
   ]
  },
  {
   "cell_type": "code",
   "execution_count": null,
   "metadata": {},
   "outputs": [],
   "source": []
  }
 ],
 "metadata": {
  "kernelspec": {
   "display_name": "Python 2",
   "language": "python",
   "name": "python2"
  },
  "language_info": {
   "codemirror_mode": {
    "name": "ipython",
    "version": 2
   },
   "file_extension": ".py",
   "mimetype": "text/x-python",
   "name": "python",
   "nbconvert_exporter": "python",
   "pygments_lexer": "ipython2",
   "version": "2.7.15"
  }
 },
 "nbformat": 4,
 "nbformat_minor": 2
}
