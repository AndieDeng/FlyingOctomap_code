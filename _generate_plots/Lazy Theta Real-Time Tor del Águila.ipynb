{
 "cells": [
  {
   "cell_type": "code",
   "execution_count": null,
   "metadata": {},
   "outputs": [],
   "source": []
  },
  {
   "cell_type": "markdown",
   "metadata": {},
   "source": [
    "# Build"
   ]
  },
  {
   "cell_type": "markdown",
   "metadata": {},
   "source": [
    "### HITL\n",
    "\n",
    "0. https://github.com/grvcTeam/grvc-ual/wiki/How-to-build-and-install-grvc-ual\n",
    "    1.\n",
    "1. Git clone UAL\n",
    "2. Git clone Flying-Octomap-Code\n"
   ]
  },
  {
   "cell_type": "markdown",
   "metadata": {},
   "source": [
    "# Run"
   ]
  },
  {
   "cell_type": "markdown",
   "metadata": {},
   "source": [
    "### SITL\n",
    "\n",
    "1. `roslaunch architecture sitl_laptop_path_command.launch`\n",
    "2. Send ltstar request through topic"
   ]
  },
  {
   "cell_type": "markdown",
   "metadata": {},
   "source": [
    "# HITL"
   ]
  },
  {
   "cell_type": "markdown",
   "metadata": {},
   "source": [
    "1. @Upboard `roscore`\n",
    "1. @Laptop `roslaunch architecture hitl_laptop_px4_simulation.launch`\n",
    "1. @Upbpard `roslaunch architecture hitl_upboard_path_command.launch`\n",
    "1. ` rostopic pub /ltstar_request zy_theta_star_msgs/LTStarRequest \"header:\n",
    "  seq: 0\n",
    "  stamp: {secs: 0, nsecs: 0}\n",
    "  frame_id: ''\n",
    "request_id: 0\n",
    "start: {x: 0.0, y: 0.0, z: 2.0}\n",
    "goal: {x: 0.0, y: 0.0, z: 10.0}\n",
    "max_time_secs: 60\n",
    "safety_margin: 2.0\" \n",
    "`"
   ]
  },
  {
   "cell_type": "markdown",
   "metadata": {},
   "source": [
    "# Build "
   ]
  },
  {
   "cell_type": "markdown",
   "metadata": {},
   "source": [
    "### SITL\n",
    "1. UAL instructions\n"
   ]
  },
  {
   "cell_type": "code",
   "execution_count": null,
   "metadata": {},
   "outputs": [],
   "source": []
  }
 ],
 "metadata": {
  "kernelspec": {
   "display_name": "Python 2",
   "language": "python",
   "name": "python2"
  },
  "language_info": {
   "codemirror_mode": {
    "name": "ipython",
    "version": 2
   },
   "file_extension": ".py",
   "mimetype": "text/x-python",
   "name": "python",
   "nbconvert_exporter": "python",
   "pygments_lexer": "ipython2",
   "version": "2.7.15"
  }
 },
 "nbformat": 4,
 "nbformat_minor": 2
}
