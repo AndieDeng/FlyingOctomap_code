{
 "cells": [
  {
   "cell_type": "markdown",
   "metadata": {},
   "source": [
    "# Lazy Theta Star Online"
   ]
  },
  {
   "cell_type": "markdown",
   "metadata": {},
   "source": [
    "### Contents\n",
    "\n",
    "1. **Introduction**\n",
    "    1. [Why the problem is important](#intro)\n",
    "    1. [What is lacking in the current knowledge / State of the art](#stateOfTheArt)\n",
    "    1. [Objectives of the study & research question ](#researchQuestion)\n",
    "    1. [Contribution](#contribution)\n",
    "\n",
    "1. **Methods**\n",
    "    1. [Installation](#installation)\n",
    "    1. [Run](#run)\n",
    "    1. [Study design](#studyDesign)\n",
    "    1. [Study variables](#studyVariables)"
   ]
  },
  {
   "cell_type": "markdown",
   "metadata": {},
   "source": [
    "<a id='intro'></a>\n",
    "#### 1.A Why the problem is important"
   ]
  },
  {
   "cell_type": "markdown",
   "metadata": {},
   "source": []
  },
  {
   "cell_type": "markdown",
   "metadata": {},
   "source": [
    "<a id='stateOfTheArt'></a>\n",
    "#### 1.B What is lacking in the current knowledge / State of the art"
   ]
  },
  {
   "cell_type": "markdown",
   "metadata": {},
   "source": [
    "Not comparing with MoveIt! because it is built for robotic arms and it would be a study in it's own right to find out the proper parameters. A nice playlist of intro videos exists. https://www.youtube.com/playlist?list=PLz8Xi5I9bhzKuFfcQxWvMm9sVCR5Wng90 \n",
    "\n",
    "Another option is to use the underlying OMPL. But the obstacle avoidance is in MoveIt! .\n",
    "\n",
    "Metrics from Helen and Lactombe 2002."
   ]
  },
  {
   "cell_type": "markdown",
   "metadata": {},
   "source": [
    "<a id='researchQuestion'></a>\n",
    "#### 1.C Objectives of the study & research question"
   ]
  },
  {
   "cell_type": "markdown",
   "metadata": {},
   "source": [
    "**Research question** What modifications need to be done to use Lazy theta * online and in the real world.\n",
    "\n"
   ]
  },
  {
   "cell_type": "markdown",
   "metadata": {},
   "source": [
    "<a id='contribution'></a>\n",
    "#### 1.D Contribution"
   ]
  },
  {
   "cell_type": "markdown",
   "metadata": {},
   "source": [
    "- Online\n",
    "- Receding horizon?\n",
    "- Real world adaptation:\n",
    "    - Free space corridor\n",
    "    - Start & goal in same voxel\n",
    "    - Unknown space as obstacle?\n",
    "    - Scale?"
   ]
  },
  {
   "cell_type": "markdown",
   "metadata": {},
   "source": [
    "<a id='installation'></a>\n",
    "#### 2.A Installation"
   ]
  },
  {
   "cell_type": "markdown",
   "metadata": {},
   "source": [
    "There are 3 environments with px4: sitl, hitl and real world.\n",
    "The instructions for installation are :\n",
    "- stil  [Gazebo simulation - Try 9](Paper%20-%20Exploration%20real%20world.ipynb#try9)\n",
    "- hitl [Hardware in the loop - Try 2 just upboard and laptop (no docker)](Paper%20-%20Exploration%20real%20world.ipynb#hitl)\n",
    "- real world [Hardware Setup - Try 2 CATEC](Paper%20-%20Exploration%20real%20world.ipynb#try2_catec)"
   ]
  },
  {
   "cell_type": "markdown",
   "metadata": {},
   "source": [
    "<a id='run'></a>\n",
    "#### 2.B Run"
   ]
  },
  {
   "cell_type": "markdown",
   "metadata": {},
   "source": [
    "###### Hardware in the Loop (HitL)\n",
    "          \n",
    "1. **Laptop** Setup basics for px4 simulation\n",
    "    1. `cd ~/src/Firmware`\n",
    "    1. `source /opt/ros/kinetic/setup.bash`\n",
    "    1. `source ~/Flying_Octomap_code/devel/setup.bash`\n",
    "    1. `source Tools/setup_gazebo.bash ~/src/Firmware ~/src/Firmware/build/posix_sitl_default`\n",
    "    1. `export ROS_PACKAGE_PATH=$ROS_PACKAGE_PATH:~/src/Firmware`\n",
    "    1. `export ROS_PACKAGE_PATH=$ROS_PACKAGE_PATH:~/src/Firmware/Tools/sitl_gazebo`\n",
    "    1. `cp ~/Flying_Octomap_code/src/architecture/Tools/iris.xacro ~/src/Firmware/Tools/sitl_gazebo/models/rotors_description/urdf/`\n",
    "    1. `cp ~/Flying_Octomap_code/src/architecture/Tools/iris_base.xacro ~/src/Firmware/Tools/sitl_gazebo/models/rotors_description/urdf/`\n",
    "    1. `python ~/src/Firmware/Tools/sitl_gazebo/scripts/xacro.py -o ~/src/Firmware/Tools/sitl_gazebo/models/rotors_description/urdf/iris_base.urdf ~/src/Firmware/Tools/sitl_gazebo/models/rotors_description/urdf/iris_base.xacro enable_mavlink_interface:=true enable_ground_truth:=false enable_wind:=false enable_logging:=false rotors_description_dir:=/home/garuda/src/Firmware/Tools/sitl_gazebo/models/rotors_description`\n",
    "    1. `sed -i 's/package:\\/\\/rotors_description/package:\\/\\/mavlink_sitl_gazebo\\/models\\/rotors_description/g' ~/src/Firmware/Tools/sitl_gazebo/models/rotors_description/urdf/iris_base.urdf`\n",
    "    1. `export ROS_IP=192.168.6.77`\n",
    "    1. `export ROS_MASTER_URI=http://192.168.6.231:11311`\n",
    "\n",
    "1. **UpBoard** Launch code\n",
    "    1. `source ~/ros_ws/devel/setup.bash`\n",
    "    1. `export ROS_IP=192.168.6.231`\n",
    "    1. `roslaunch architecture posix_hitl_upboard.launch`\n",
    "\n",
    "1. **Laptop** Launch px4 simulation (2 terminals)\n",
    "    1. `cd ~/src/Firmware`\n",
    "    1. `roslaunch architecture posix_hitl_docker.launch`\n",
    "    1. `roslaunch mavros px4.launch fcu_url:=\"udp://:14540@127.0.0.1:14557\"`  \n",
    "\n",
    "1. **Laptop** Launch rviz\n",
    "    1. `cd ~/src/Firmware`\n",
    "    1. `source /opt/ros/kinetic/setup.bash`\n",
    "    1. `source ~/Flying_Octomap_code/devel/setup.bash`\n",
    "    1. `source Tools/setup_gazebo.bash ~/src/Firmware ~/src/Firmware/build/posix_sitl_default`\n",
    "    1. `export ROS_PACKAGE_PATH=$ROS_PACKAGE_PATH:~/src/Firmware`\n",
    "    1. `export ROS_PACKAGE_PATH=$ROS_PACKAGE_PATH:~/src/Firmware/Tools/sitl_gazebo` \n",
    "    1. `export ROS_IP=192.168.6.77`\n",
    "    1. `export ROS_MASTER_URI=http://192.168.6.231:11311`\n",
    "    1. `rviz`\n",
    "        \n",
    "    \n"
   ]
  },
  {
   "cell_type": "markdown",
   "metadata": {},
   "source": [
    "<a id='studyDesign'></a>\n",
    "#### 2.C Study Design"
   ]
  },
  {
   "cell_type": "markdown",
   "metadata": {},
   "source": [
    "Comparisions:\n",
    "- It would be nice to compare against someone else's algorithm. MoveIt! seems to be the only 3D option of the shelf. See if this can be run from the bags. Also mention in future work that it will be compared - as it will...\n",
    "- Regular grid & sparse?\n",
    "\n",
    "20 runs from bag the see more statistically results.\n",
    "\n",
    "Run around 3 in real life. Try to be with same flight."
   ]
  },
  {
   "cell_type": "markdown",
   "metadata": {},
   "source": [
    "<a id='studyVariables'></a>\n",
    "#### 2.D Study Variables"
   ]
  },
  {
   "cell_type": "markdown",
   "metadata": {},
   "source": [
    "- Computation time\n",
    "- RAM\n",
    "- Path length free space\n",
    "- Path lenght w/ obstacles: compare with manual measurement."
   ]
  },
  {
   "cell_type": "code",
   "execution_count": null,
   "metadata": {},
   "outputs": [],
   "source": []
  }
 ],
 "metadata": {
  "kernelspec": {
   "display_name": "Python 2",
   "language": "python",
   "name": "python2"
  },
  "language_info": {
   "codemirror_mode": {
    "name": "ipython",
    "version": 2
   },
   "file_extension": ".py",
   "mimetype": "text/x-python",
   "name": "python",
   "nbconvert_exporter": "python",
   "pygments_lexer": "ipython2",
   "version": "2.7.12"
  }
 },
 "nbformat": 4,
 "nbformat_minor": 2
}
