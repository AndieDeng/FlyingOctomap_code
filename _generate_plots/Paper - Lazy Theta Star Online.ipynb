{
 "cells": [
  {
   "cell_type": "markdown",
   "metadata": {},
   "source": [
    "# Lazy Theta Star Online"
   ]
  },
  {
   "cell_type": "markdown",
   "metadata": {},
   "source": [
    "### Contents\n",
    "\n",
    "1. **Introduction**\n",
    "    1. [Why the problem is important](#intro)\n",
    "    1. [What is lacking in the current knowledge / State of the art](#stateOfTheArt)\n",
    "    1. [Objectives of the study & research question ](#researchQuestion)\n",
    "    1. [Contribution](#contribution)\n",
    "\n",
    "1. **Methods**\n",
    "    1. [Installation](#installation)\n",
    "    1. [Run](#run)\n",
    "    1. [Study design](#studyDesign)\n",
    "    1. [Study variables](#studyVariables)"
   ]
  },
  {
   "cell_type": "markdown",
   "metadata": {},
   "source": [
    "<a id='intro'></a>\n",
    "#### 1.A Why the problem is important"
   ]
  },
  {
   "cell_type": "markdown",
   "metadata": {},
   "source": []
  },
  {
   "cell_type": "markdown",
   "metadata": {},
   "source": [
    "<a id='stateOfTheArt'></a>\n",
    "#### 1.B What is lacking in the current knowledge / State of the art"
   ]
  },
  {
   "cell_type": "markdown",
   "metadata": {},
   "source": [
    "Not comparing with MoveIt! because it is built for robotic arms and it would be a study in it's own right to find out the proper parameters. A nice playlist of intro videos exists. https://www.youtube.com/playlist?list=PLz8Xi5I9bhzKuFfcQxWvMm9sVCR5Wng90 \n",
    "\n",
    "Another option is to use the underlying OMPL. But the obstacle avoidance is in MoveIt! .\n",
    "\n",
    "Metrics from Helen and Lactombe 2002."
   ]
  },
  {
   "cell_type": "markdown",
   "metadata": {},
   "source": [
    "<a id='researchQuestion'></a>\n",
    "#### 1.C Objectives of the study & research question"
   ]
  },
  {
   "cell_type": "markdown",
   "metadata": {},
   "source": [
    "**Research question** What modifications need to be done to use Lazy theta * online and in the real world.\n",
    "\n"
   ]
  },
  {
   "cell_type": "markdown",
   "metadata": {},
   "source": [
    "<a id='contribution'></a>\n",
    "#### 1.D Contribution"
   ]
  },
  {
   "cell_type": "markdown",
   "metadata": {},
   "source": [
    "- Online\n",
    "- Receding horizon?\n",
    "- Real world adaptation:\n",
    "    - Free space corridor\n",
    "    - Start & goal in same voxel\n",
    "    - Unknown space as obstacle?\n",
    "    - Scale?\n",
    "    - Security margin & neighbor generation\n",
    "- In case of Information Gain\n",
    "    - Show with the sensor specs that the error os measurements is uniform throuhout the langer range.\n",
    "    - [Disc area](https://www.mathopenref.com/arcsector.html)\n",
    "    - [Is point part of arc](https://stackoverflow.com/questions/6270785/how-to-determine-whether-a-point-x-y-is-contained-within-an-arc-section-of-a-c)\n",
    "    "
   ]
  },
  {
   "cell_type": "markdown",
   "metadata": {},
   "source": [
    "**Security margin & neighbor generation** \n",
    "\n",
    "Using security margin to generate neighbors instead of octree resolution. [for calculations look in spreadsheet](https://docs.google.com/spreadsheets/d/1c4LzxBBLpTx6qQF26tpFr8tkmEM5zIi43MLb72PWlvE/edit#gid=0) \n",
    "\n",
    "When there is a large mismatch between security margin and the resolution there is no point generating neighbors for maximum resolution steps when most of them will be discarded. \n",
    "\n",
    "Instead a variable fraction of the security margin (this can be explored - know what is the amount of paths that cannot be found with this that can be found with resolution) (having as minimum lenght the octree resolution) will be sampled for neighbors. \n",
    "\n",
    "This reduces the number of neighbors while scaling with the size of the voxel. \n",
    "It is not possible to use this method of neighbor generation for both UpdateVertex and in the main loop because during the implementation of the algorithm the assumption that every maximum.\n",
    "\n",
    "(Sparse version) Using the actual size of the neighbors did not in fact reduce computation time because if bookkeeping. \n",
    "    "
   ]
  },
  {
   "cell_type": "markdown",
   "metadata": {},
   "source": [
    "\n",
    "<a id='installation'></a>\n",
    "#### 2.A Installation"
   ]
  },
  {
   "cell_type": "markdown",
   "metadata": {},
   "source": [
    "There are 3 environments with px4: sitl, hitl and real world.\n",
    "The instructions for installation are :\n",
    "- stil  [Gazebo simulation - Try 9](Paper%20-%20Exploration%20real%20world.ipynb#try9)\n",
    "- hitl [Hardware in the loop - Try 2 just upboard and laptop (no docker)](Paper%20-%20Exploration%20real%20world.ipynb#hitl)\n",
    "    1. In laptop Firmware\n",
    "        1. Install mavros-extras\n",
    "        1. `cd ~`\n",
    "        1. `wget https://raw.githubusercontent.com/PX4/Devguide/master/build_scripts/ubuntu_sim_ros_gazebo.sh`\n",
    "        1. `chmod +x ubuntu_sim_ros_gazebo.sh`\n",
    "        2. `source ubuntu_sim_ros_gazebo.sh`\n",
    "        1. `git checkout v1.7.0-rc4`\n",
    "        1. `make posix_sitl_default gazebo`\n",
    "        1. `source ~/Flying_Octomap_code/devel/setup.bash`\n",
    "        1. `source Tools/setup_gazebo.bash ~/src/Firmware ~/src/Firmware/build/posix_sitl_default`\n",
    "        1. `export ROS_PACKAGE_PATH=$ROS_PACKAGE_PATH:~/src/Firmware`\n",
    "        1. `export ROS_PACKAGE_PATH=$ROS_PACKAGE_PATH:~/src/Firmware/Tools/sitl_gazebo`\n",
    "        1. `cp ~/Flying_Octomap_code/src/architecture/Tools/iris.xacro ~/src/Firmware/Tools/sitl_gazebo/models/rotors_description/urdf/`\n",
    "        1. `cp ~/Flying_Octomap_code/src/architecture/Tools/iris_base.xacro ~/src/Firmware/Tools/sitl_gazebo/models/rotors_description/urdf/`\n",
    "        1. `python ~/src/Firmware/Tools/sitl_gazebo/scripts/xacro.py -o ~/src/Firmware/Tools/sitl_gazebo/models/rotors_description/urdf/iris_base.urdf ~/src/Firmware/Tools/sitl_gazebo/models/rotors_description/urdf/iris_base.xacro enable_mavlink_interface:=true enable_ground_truth:=false enable_wind:=false enable_logging:=false rotors_description_dir:=/home/mfaria/src/Firmware/Tools/sitl_gazebo/models/rotors_description`\n",
    "        1. `sed -i 's/package:\\/\\/rotors_description/package:\\/\\/mavlink_sitl_gazebo\\/models\\/rotors_description/g' ~/src/Firmware/Tools/sitl_gazebo/models/rotors_description/urdf/iris_base.urdf`\n",
    "        1. `export ROS_IP=192.168.6.77`\n",
    "        1. `export ROS_MASTER_URI=http://192.168.6.231:11311`\n",
    "    1. In Upboard add `192.168.6.77 garuda` to `/etc/hosts`\n",
    "\n",
    "\n",
    "- real world [Hardware Setup - Try 2 CATEC](Paper%20-%20Exploration%20real%20world.ipynb#try2_catec)"
   ]
  },
  {
   "cell_type": "markdown",
   "metadata": {},
   "source": [
    "<a id='run'></a>\n",
    "#### 2.B Run"
   ]
  },
  {
   "cell_type": "markdown",
   "metadata": {},
   "source": [
    "###### Hardware in the Loop (HitL)\n",
    "          \n",
    "1. **Laptop** Setup basics for px4 simulation\n",
    "    1. `cd ~/src/Firmware`\n",
    "    1. `source /opt/ros/kinetic/setup.bash`\n",
    "    1. `source ~/Flying_Octomap_code/devel/setup.bash`\n",
    "    1. `source Tools/setup_gazebo.bash ~/src/Firmware ~/src/Firmware/build/posix_sitl_default`\n",
    "    1. `export ROS_PACKAGE_PATH=$ROS_PACKAGE_PATH:~/src/Firmware`\n",
    "    1. `export ROS_PACKAGE_PATH=$ROS_PACKAGE_PATH:~/src/Firmware/Tools/sitl_gazebo`\n",
    "    1. `cp ~/Flying_Octomap_code/src/architecture/Tools/iris.xacro ~/src/Firmware/Tools/sitl_gazebo/models/rotors_description/urdf/`\n",
    "    1. `cp ~/Flying_Octomap_code/src/architecture/Tools/iris_base.xacro ~/src/Firmware/Tools/sitl_gazebo/models/rotors_description/urdf/`\n",
    "    1. `python ~/src/Firmware/Tools/sitl_gazebo/scripts/xacro.py -o ~/src/Firmware/Tools/sitl_gazebo/models/rotors_description/urdf/iris_base.urdf ~/src/Firmware/Tools/sitl_gazebo/models/rotors_description/urdf/iris_base.xacro enable_mavlink_interface:=true enable_ground_truth:=false enable_wind:=false enable_logging:=false rotors_description_dir:=/home/garuda/src/Firmware/Tools/sitl_gazebo/models/rotors_description`\n",
    "    1. `sed -i 's/package:\\/\\/rotors_description/package:\\/\\/mavlink_sitl_gazebo\\/models\\/rotors_description/g' ~/src/Firmware/Tools/sitl_gazebo/models/rotors_description/urdf/iris_base.urdf`\n",
    "    1. `export ROS_IP=192.168.6.77`\n",
    "    1. `export ROS_MASTER_URI=http://192.168.6.231:11311`\n",
    "\n",
    "1. **UpBoard** Launch code\n",
    "    1. `source ~/ros_ws/devel/setup.bash`\n",
    "    1. `export ROS_IP=192.168.6.231`\n",
    "    1. `roslaunch architecture hitl_upboard_architecture.launch`\n",
    "\n",
    "1. **Laptop** Launch px4 simulation (2 terminals)\n",
    "    1. `cd ~/src/Firmware`\n",
    "    1. `roslaunch architecture posix_hitl_docker.launch`\n",
    "    1. `roslaunch mavros px4.launch fcu_url:=\"udp://:14540@127.0.0.1:14557\"`  \n",
    "\n",
    "1. **Laptop** Launch rviz\n",
    "    1. `cd ~/src/Firmware`\n",
    "    1. `source /opt/ros/kinetic/setup.bash`\n",
    "    1. `source ~/Flying_Octomap_code/devel/setup.bash`\n",
    "    1. `source Tools/setup_gazebo.bash ~/src/Firmware ~/src/Firmware/build/posix_sitl_default`\n",
    "    1. `export ROS_PACKAGE_PATH=$ROS_PACKAGE_PATH:~/src/Firmware`\n",
    "    1. `export ROS_PACKAGE_PATH=$ROS_PACKAGE_PATH:~/src/Firmware/Tools/sitl_gazebo` \n",
    "    1. `export ROS_IP=192.168.6.77`\n",
    "    1. `export ROS_MASTER_URI=http://192.168.6.231:11311`\n",
    "    1. `rviz`\n",
    "        \n",
    "    \n"
   ]
  },
  {
   "cell_type": "markdown",
   "metadata": {},
   "source": [
    "<a id='studyDesign'></a>\n",
    "#### 2.C Study Design"
   ]
  },
  {
   "cell_type": "markdown",
   "metadata": {},
   "source": [
    "Comparisions:\n",
    "- It would be nice to compare against someone else's algorithm. MoveIt! seems to be the only 3D option of the shelf. See if this can be run from the bags. Also mention in future work that it will be compared - as it will...\n",
    "- Regular grid & sparse?\n",
    "\n",
    "20 runs from bag the see more statistically results.\n",
    "\n",
    "Run around 3 in real life. Try to be with same flight.\n",
    "\n",
    "Parameter sweep."
   ]
  },
  {
   "cell_type": "markdown",
   "metadata": {},
   "source": [
    "<a id='studyVariables'></a>\n",
    "#### 2.D Study Variables"
   ]
  },
  {
   "cell_type": "markdown",
   "metadata": {},
   "source": [
    "- Computation time\n",
    "- RAM\n",
    "- Path length free space\n",
    "- Path lenght w/ obstacles: compare with manual measurement.\n",
    "- Failure percentage\n",
    "    - Naive max resolution neighbors\n",
    "    - Different fractions of security margin\n",
    "\n",
    "**Run plotly**\n",
    "1. Installation\n",
    "    1. `pip install plotly`\n",
    "    1. `pip install cufflinks`\n",
    "1. Run frontier extraction for box plots\n",
    "    1. `cd ~/Flying_Octomap_code/_generate_plots`\n",
    "    1. `python`\n",
    "    1. `variables= {}`\n",
    "    1. `execfile( \"compare_box_graphs.py\", variables )`"
   ]
  },
  {
   "cell_type": "code",
   "execution_count": null,
   "metadata": {},
   "outputs": [],
   "source": []
  }
 ],
 "metadata": {
  "kernelspec": {
   "display_name": "Python 2",
   "language": "python",
   "name": "python2"
  },
  "language_info": {
   "codemirror_mode": {
    "name": "ipython",
    "version": 2
   },
   "file_extension": ".py",
   "mimetype": "text/x-python",
   "name": "python",
   "nbconvert_exporter": "python",
   "pygments_lexer": "ipython2",
   "version": "2.7.11+"
  }
 },
 "nbformat": 4,
 "nbformat_minor": 2
}
