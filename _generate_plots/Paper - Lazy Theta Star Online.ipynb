{
 "cells": [
  {
   "cell_type": "markdown",
   "metadata": {},
   "source": [
    "# Lazy Theta Star Online"
   ]
  },
  {
   "cell_type": "markdown",
   "metadata": {},
   "source": [
    "### Contents\n",
    "\n",
    "1. **Introduction**\n",
    "    1. [Why the problem is important](#intro)\n",
    "    1. [What is lacking in the current knowledge / State of the art](#stateOfTheArt)\n",
    "    1. [Objectives of the study & research question ](#researchQuestion)\n",
    "    1. [Contribution](#contribution)\n",
    "\n",
    "1. **Methods**\n",
    "    1. [Installation](#installation)\n",
    "    1. [Run](#run)\n",
    "    1. [Study design](#studyDesign)\n",
    "    1. [Study variables](#studyVariables)"
   ]
  },
  {
   "cell_type": "markdown",
   "metadata": {},
   "source": [
    "<a id='intro'></a>\n",
    "##### 1.A Why the problem is important"
   ]
  },
  {
   "cell_type": "markdown",
   "metadata": {},
   "source": []
  },
  {
   "cell_type": "markdown",
   "metadata": {},
   "source": [
    "<a id='stateOfTheArt'></a>\n",
    "##### 1.B What is lacking in the current knowledge / State of the art"
   ]
  },
  {
   "cell_type": "markdown",
   "metadata": {},
   "source": [
    "Not comparing with MoveIt! because it is built for robotic arms and it would be a study in it's own right to find out the proper parameters. A nice playlist of intro videos exists. https://www.youtube.com/playlist?list=PLz8Xi5I9bhzKuFfcQxWvMm9sVCR5Wng90 \n",
    "\n",
    "Another option is to use the underlying OMPL. But the obstacle avoidance is in MoveIt! ."
   ]
  },
  {
   "cell_type": "markdown",
   "metadata": {},
   "source": [
    "<a id='researchQuestion'></a>\n",
    "##### 1.C Objectives of the study & research question"
   ]
  },
  {
   "cell_type": "markdown",
   "metadata": {},
   "source": [
    "**Research question** What modifications need to be done to use Lazy theta * online and in the real world.\n",
    "\n"
   ]
  },
  {
   "cell_type": "markdown",
   "metadata": {},
   "source": [
    "<a id='contribution'></a>\n",
    "##### 1.D Contribution"
   ]
  },
  {
   "cell_type": "markdown",
   "metadata": {},
   "source": [
    "- Online\n",
    "- Receding horizon?\n",
    "- Real world adaptation:\n",
    "    - Free space corridor\n",
    "    - Start & goal in same voxel\n",
    "    - Unknown space as obstacle?\n",
    "    - Scale?"
   ]
  },
  {
   "cell_type": "markdown",
   "metadata": {},
   "source": [
    "<a id='installation'></a>\n",
    "##### Installation"
   ]
  },
  {
   "cell_type": "markdown",
   "metadata": {},
   "source": []
  },
  {
   "cell_type": "markdown",
   "metadata": {},
   "source": [
    "<a id='run'></a>\n",
    "##### Run"
   ]
  },
  {
   "cell_type": "markdown",
   "metadata": {},
   "source": []
  },
  {
   "cell_type": "markdown",
   "metadata": {},
   "source": [
    "<a id='studyDesign'></a>\n",
    "##### Study Design"
   ]
  },
  {
   "cell_type": "markdown",
   "metadata": {},
   "source": [
    "Comparisions:\n",
    "- It would be nice to compare against someone else's algorithm. MoveIt! seems to be the only 3D option of the shelf. See if this can be run from the bags. Also mention in future work that it will be compared - as it will...\n",
    "- Regular grid & sparse?\n",
    "\n",
    "20 runs from bag the see more statistically results.\n",
    "\n",
    "Run around 3 in real life. Try to be with same flight."
   ]
  },
  {
   "cell_type": "markdown",
   "metadata": {},
   "source": [
    "<a id='studyVariables'></a>\n",
    "##### Study Variables"
   ]
  },
  {
   "cell_type": "markdown",
   "metadata": {},
   "source": [
    "- Computation time\n",
    "- RAM\n",
    "- Path length free space\n",
    "- Path lenght w/ obstacles: compare with manual measurement."
   ]
  },
  {
   "cell_type": "code",
   "execution_count": null,
   "metadata": {},
   "outputs": [],
   "source": []
  }
 ],
 "metadata": {
  "kernelspec": {
   "display_name": "Python 2",
   "language": "python",
   "name": "python2"
  },
  "language_info": {
   "codemirror_mode": {
    "name": "ipython",
    "version": 2
   },
   "file_extension": ".py",
   "mimetype": "text/x-python",
   "name": "python",
   "nbconvert_exporter": "python",
   "pygments_lexer": "ipython2",
   "version": "2.7.12"
  }
 },
 "nbformat": 4,
 "nbformat_minor": 2
}
