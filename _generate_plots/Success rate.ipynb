{
 "cells": [
  {
   "cell_type": "code",
   "execution_count": 1,
   "metadata": {},
   "outputs": [],
   "source": [
    "import plotly\n",
    "import time_vs_pathLegth_lazyThetaStar as t\n",
    "\n",
    "csv_filepathOrtho = \"/media/mfaria/Ganesha/20171219_backup_home_catec/Margarida/20180829_paper/3dpuzzle_05mRes/data/lazyThetaStar_computation_time_05_ortho.csv\"\n",
    "data_ortho = t.extract_lazy_theta_star_data(csv_filepathOrtho)\n",
    "\n",
    "\n"
   ]
  },
  {
   "cell_type": "code",
   "execution_count": 9,
   "metadata": {},
   "outputs": [
    {
     "data": {
      "text/plain": [
       "success                             2021\n",
       "computation_time_millis             2021\n",
       "path_lenght_straight_line_meters    2021\n",
       "path_lenght_total_meters            2021\n",
       "has_obstacle                        2021\n",
       "start                               2021\n",
       "goal                                2021\n",
       "safety_margin_meters                2021\n",
       "max_search_duration_seconds         2021\n",
       "iteration_count                     2021\n",
       "obstacle_hit_count                  2021\n",
       "total_obstacle_checks               2021\n",
       "dataset_name                        2021\n",
       "dtype: int64"
      ]
     },
     "execution_count": 9,
     "metadata": {},
     "output_type": "execute_result"
    }
   ],
   "source": [
    "total_runs_ortho = data_ortho.success.count ()\n",
    "\n",
    "\n",
    "success_runs_ortho = data_ortho[data_ortho['success'] == 1].success.count()\n",
    "data_ortho.count()"
   ]
  },
  {
   "cell_type": "code",
   "execution_count": 26,
   "metadata": {},
   "outputs": [],
   "source": [
    "count_success_5_ortho = data_ortho[\"success\"][(data_ortho[\"success\"] == 1) & (data_ortho[\"safety_margin_meters\"] == 5) ].count()"
   ]
  },
  {
   "cell_type": "code",
   "execution_count": 25,
   "metadata": {},
   "outputs": [],
   "source": [
    "count_total_5_ortho = data_ortho[\"success\"][(data_ortho[\"safety_margin_meters\"] == 5) ].count()"
   ]
  },
  {
   "cell_type": "code",
   "execution_count": 28,
   "metadata": {},
   "outputs": [
    {
     "data": {
      "text/plain": [
       "98"
      ]
     },
     "execution_count": 28,
     "metadata": {},
     "output_type": "execute_result"
    }
   ],
   "source": [
    "success_rate_5_ortho = count_success_5_ortho * 100 / count_total_5_ortho\n",
    "success_rate_5_ortho"
   ]
  },
  {
   "cell_type": "code",
   "execution_count": null,
   "metadata": {},
   "outputs": [],
   "source": [
    "count_success_5_ortho = data_ortho[\"success\"][(data_ortho[\"success\"] == 1) & (data_ortho[\"safety_margin_meters\"] == 5) ].count()\n",
    "count_total_5_ortho = data_ortho[\"success\"][(data_ortho[\"safety_margin_meters\"] == 5) ].count()\n",
    "success_rate_5_ortho = count_success_5_ortho * 100 / count_total_5_ortho\n",
    "success_rate_5_ortho"
   ]
  },
  {
   "cell_type": "code",
   "execution_count": 29,
   "metadata": {},
   "outputs": [
    {
     "data": {
      "text/plain": [
       "98"
      ]
     },
     "execution_count": 29,
     "metadata": {},
     "output_type": "execute_result"
    }
   ],
   "source": [
    "import success_rate as s\n",
    "\n",
    "s.calculate_success_rate(data_ortho, 5)"
   ]
  },
  {
   "cell_type": "code",
   "execution_count": 30,
   "metadata": {},
   "outputs": [
    {
     "data": {
      "text/plain": [
       "96"
      ]
     },
     "execution_count": 30,
     "metadata": {},
     "output_type": "execute_result"
    }
   ],
   "source": [
    "s.calculate_success_rate(data_ortho, 3.9)"
   ]
  },
  {
   "cell_type": "code",
   "execution_count": 31,
   "metadata": {},
   "outputs": [
    {
     "data": {
      "text/plain": [
       "97"
      ]
     },
     "execution_count": 31,
     "metadata": {},
     "output_type": "execute_result"
    }
   ],
   "source": [
    "s.calculate_success_rate(data_ortho, 5.4)"
   ]
  },
  {
   "cell_type": "code",
   "execution_count": 32,
   "metadata": {},
   "outputs": [
    {
     "data": {
      "text/plain": [
       "[96, 98, 97]"
      ]
     },
     "execution_count": 32,
     "metadata": {},
     "output_type": "execute_result"
    }
   ],
   "source": [
    "margins = [3.9, 5, 5.4]\n",
    "\n",
    "success_rate_ortho =  [s.calculate_success_rate(data_ortho, margin) for margin in margins]\n",
    "success_rate_ortho"
   ]
  },
  {
   "cell_type": "code",
   "execution_count": 33,
   "metadata": {},
   "outputs": [
    {
     "data": {
      "text/plain": [
       "[96, 98, 97]"
      ]
     },
     "execution_count": 33,
     "metadata": {},
     "output_type": "execute_result"
    }
   ],
   "source": [
    "csv_filepathOrtho = \"/media/mfaria/Ganesha/20171219_backup_home_catec/Margarida/20180829_paper/3dpuzzle_05mRes/data/lazyThetaStar_computation_time_05_ortho.csv\"\n",
    "data_ortho = t.extract_lazy_theta_star_data(csv_filepathOrtho)\n",
    "\n",
    "margins = [3.9, 5, 5.4]\n",
    "\n",
    "success_rate_ortho =  [s.calculate_success_rate(data_ortho, margin) for margin in margins]\n",
    "success_rate_ortho"
   ]
  },
  {
   "cell_type": "code",
   "execution_count": null,
   "metadata": {},
   "outputs": [],
   "source": []
  }
 ],
 "metadata": {
  "kernelspec": {
   "display_name": "Python 2",
   "language": "python",
   "name": "python2"
  },
  "language_info": {
   "codemirror_mode": {
    "name": "ipython",
    "version": 2
   },
   "file_extension": ".py",
   "mimetype": "text/x-python",
   "name": "python",
   "nbconvert_exporter": "python",
   "pygments_lexer": "ipython2",
   "version": "2.7.15"
  }
 },
 "nbformat": 4,
 "nbformat_minor": 2
}
