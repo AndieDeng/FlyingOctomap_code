{
 "cells": [
  {
   "cell_type": "markdown",
   "metadata": {},
   "source": [
    "# Trajectory Following"
   ]
  },
  {
   "cell_type": "markdown",
   "metadata": {},
   "source": [
    "### Contents\n",
    "\n",
    "1. **Installation**\n",
    "\n",
    "1. **Run it**\n",
    "    1. [Instructions](#Instructions)\n",
    "    1. [Macros ands paths](#macros)"
   ]
  },
  {
   "cell_type": "markdown",
   "metadata": {},
   "source": [
    "### Installation \n",
    "<a id='installation'></a>"
   ]
  },
  {
   "cell_type": "markdown",
   "metadata": {},
   "source": [
    "**hitl Try 3 - no docker (T_T)**\n",
    "\n",
    "In laptop Firmware\n",
    "\n",
    "1. Install Ros from instructions\n",
    "1. `export PYTHONPATH=$PYTHONPATH:/usr/lib/python2.7/dist-packages` because the path is not in bashrc\n",
    "1. Clone FlyingOctomap folder\n",
    "    1. `git clone git@github.com:margaridaCF/FlyingOctomap_code.git`\n",
    "    1. `git checkout sitl`\n",
    "    1. `mv FlyingOctomap_code Flying_Octomap_code`\n",
    "    1. `cd ~/Flying_Octomap_code/src`\n",
    "    1. `cd eigen_catkin`\n",
    "    1. `git clone https://github.com/ethz-asl/eigen_catkin.git`\n",
    "    1. `cd ../laser_filters/`\n",
    "    1. `git clone git@github.com:margaridaCF/laser_filters.git`\n",
    "1. Firmware for px4\n",
    "    1. `source ~/Flying_Octomap_code/src/architecture/install/ubuntu_sim_common_deps.sh`\n",
    "    1. `source ~/Flying_Octomap_code/src/architecture/install/ubuntu_sim_ros_gazebo.sh`\n",
    "    1. `cd ~/src/Firmware`\n",
    "    1. `git checkout v1.7.0-rc4`\n",
    "    1. `make posix_sitl_default gazebo`\n",
    "    1. `source ~/Flying_Octomap_code/devel/setup.bash`\n",
    "    1. `source ~/src/Firmware/Tools/setup_gazebo.bash ~/src/Firmware ~/src/Firmware/build/posix_sitl_default`\n",
    "    1. `export ROS_PACKAGE_PATH=$ROS_PACKAGE_PATH:~/src/Firmware`\n",
    "    1. `export ROS_PACKAGE_PATH=$ROS_PACKAGE_PATH:~/src/Firmware/Tools/sitl_gazebo`\n",
    "    1. GAZEBO_PLUGIN_PATH should be ` /home/mfaria/src/Firmware/build/posix_sitl_default/build_gazebo:/opt/ros/kinetic/lib`\n",
    "1. Setup models\n",
    "    1. `cp ~/Flying_Octomap_code/src/architecture/Tools/iris.xacro ~/src/Firmware/Tools/sitl_gazebo/models/rotors_description/urdf/`\n",
    "    1. `cp ~/Flying_Octomap_code/src/architecture/Tools/iris_base.xacro ~/src/Firmware/Tools/sitl_gazebo/models/rotors_description/urdf/`\n",
    "    1. `python ~/src/Firmware/Tools/sitl_gazebo/scripts/xacro.py -o ~/src/Firmware/Tools/sitl_gazebo/models/rotors_description/urdf/iris_base.urdf ~/src/Firmware/Tools/sitl_gazebo/models/rotors_description/urdf/iris_base.xacro enable_mavlink_interface:=true enable_ground_truth:=false enable_wind:=false enable_logging:=false rotors_description_dir:=/home/mfaria/src/Firmware/Tools/sitl_gazebo/models/rotors_description`\n",
    "    1. `sed -i 's/package:\\/\\/rotors_description/package:\\/\\/mavlink_sitl_gazebo\\/models\\/rotors_description/g' ~/src/Firmware/Tools/sitl_gazebo/models/rotors_description/urdf/iris_base.urdf`\n",
    "    1. `mkdir ~/.gazebo/models`\n",
    "    1. `cp -r ~/Flying_Octomap_code/src/architecture/models/* ~/.gazebo/models`\n",
    "1. Update nvidia drivers\n",
    "    1. `sudo apt-get purge nvidia-*`\n",
    "    1. `sudo apt-get autoremove --purge`\n",
    "    1. `sudo add-apt-repository ppa:graphics-drivers`\n",
    "    1. `sudo apt-get update`\n",
    "    1. `sudo apt-get install nvidia-384`\n",
    "    1. `reboot`\n"
   ]
  },
  {
   "cell_type": "markdown",
   "metadata": {},
   "source": [
    "### Run it \n",
    "<a id='runIt'></a>"
   ]
  },
  {
   "cell_type": "markdown",
   "metadata": {},
   "source": [
    "##### Instructions\n",
    "<a id='Instructions'></a>\n",
    "\n",
    "1. For jupyter terminal `export PATH=$PATH:/home/mfaria/anaconda2/bin`\n",
    "1. Setup basics for px4 simulation\n",
    "    1. `source /usr/share/gazebo/setup.sh `\n",
    "    1. `cd ~/src/Firmware`\n",
    "    1. `source /opt/ros/kinetic/setup.bash`\n",
    "    1. `source ~/Flying_Octomap_code/devel/setup.bash`\n",
    "    1. `source Tools/setup_gazebo.bash ~/src/Firmware ~/src/Firmware/build/posix_sitl_default`\n",
    "    1. `export ROS_PACKAGE_PATH=$ROS_PACKAGE_PATH:~/src/Firmware`\n",
    "    1. `export ROS_PACKAGE_PATH=$ROS_PACKAGE_PATH:~/src/Firmware/Tools/sitl_gazebo`\n",
    "\n",
    "1. Launch code\n",
    "    1. `source ~/ros_ws/devel/setup.bash`\n",
    "    1. `roslaunch architecture sitl_laptop_collectData.launch`\n",
    "\n",
    "1. Launch px4 simulation (2 terminals)\n",
    "    1. `cd ~/src/Firmware`\n",
    "    1. `roslaunch architecture hitl_laptop_px4_simulation.launch`\n",
    "    1. `roslaunch mavros px4.launch fcu_url:=\"udp://:14540@127.0.0.1:14557\"`  \n",
    "\n",
    "1. Launch rviz\n",
    "    1. `rviz`\n",
    "\n",
    "1. Command a waypoint\n",
    "```\n",
    "rosservice call /target_position \"waypoint_sequence_id: 0\n",
    "pose:\n",
    "  position:\n",
    "    x: 0.0\n",
    "    y: 0.0\n",
    "    z: 10.0\n",
    "  orientation:\n",
    "    x: 0.0\n",
    "    y: 0.0\n",
    "    z: 0.0\n",
    "    w: 0.0\" \n",
    "is_going_to_position: True\n",
    "```\n",
    "\n",
    "1. Ask for a path\n",
    "```\n",
    "rostopic pub /ltstar_request lazy_theta_star_msgs/LTStarRequest \"header:\n",
    "  seq: 0\n",
    "  stamp: {secs: 0, nsecs: 0}\n",
    "  frame_id: ''\n",
    "request_id: 0\n",
    "start: {x: -35.7, y: 21.1, z: 31.0}\n",
    "goal: {x: -21.1, y: 21.0, z: 32.0}\n",
    "max_time_secs: 30\n",
    "safety_margin: 5.0\" \n",
    "```\n",
    "    \n"
   ]
  },
  {
   "cell_type": "markdown",
   "metadata": {},
   "source": [
    "##### Macros and paths\n",
    "<a id='macros'></a>\n",
    "\n",
    "Macros to comment and uncomment and paths to set when switching from running the simulation to unit testing.\n",
    "``````\n",
    "ltStar_lib_ortho.cpp\n",
    "#define SAVE_CSV 1 \t\t// save measurements of lazyThetaStar into csv file\n",
    "#define RUNNING_ROS 0 \t// enable to publish markers on rViz\n",
    "```\n",
    "```\n",
    "ltStarOctree_common.h\n",
    "// path to log folder\n",
    "// Keep in mind that a folder is created for each run. And a symbolic link to it that is used everywhere\n",
    "// std::string folder_name = \"/ros_ws/src/data\";\n",
    "std::string folder_name = \"/home/mfaria/Flying_Octomap_code/src/data\";\n",
    "```"
   ]
  },
  {
   "cell_type": "code",
   "execution_count": null,
   "metadata": {},
   "outputs": [],
   "source": []
  }
 ],
 "metadata": {
  "kernelspec": {
   "display_name": "Python 2",
   "language": "python",
   "name": "python2"
  },
  "language_info": {
   "codemirror_mode": {
    "name": "ipython",
    "version": 2
   },
   "file_extension": ".py",
   "mimetype": "text/x-python",
   "name": "python",
   "nbconvert_exporter": "python",
   "pygments_lexer": "ipython2",
   "version": "2.7.15"
  }
 },
 "nbformat": 4,
 "nbformat_minor": 2
}
